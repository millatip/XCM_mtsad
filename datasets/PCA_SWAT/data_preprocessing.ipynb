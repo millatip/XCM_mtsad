{
 "cells": [
  {
   "cell_type": "markdown",
   "metadata": {},
   "source": [
    "to do:\n",
    "train_X :\n",
    "- change label to 0/1 (Normal/Attack)\n",
    "- Normalize data\n",
    "- Split to matrix (60 * var_length) = 60 because 1 hour\n",
    "- transpose matrix to (var_lenth * 60)\n",
    "\n",
    "train_Y :\n",
    "- split to matrix @60\n",
    "- if in the matrix there is 1 (attack) make label as 1 \n",
    "\n",
    "Input shape:\n",
    "(49990, 53)\n",
    "Expected output shape:\n",
    "train_X: (7498, 52, 60)\n",
    "train_Y: (7498, 1)"
   ]
  },
  {
   "cell_type": "code",
   "execution_count": 1,
   "metadata": {},
   "outputs": [],
   "source": [
    "import pandas as pd\n",
    "import numpy as np\n",
    "from sklearn.preprocessing import StandardScaler\n",
    "from sklearn.model_selection import train_test_split"
   ]
  },
  {
   "cell_type": "code",
   "execution_count": 10,
   "metadata": {},
   "outputs": [
    {
     "data": {
      "text/plain": [
       "<bound method DataFrame.info of         Unnamed: 0         p_0        p_1        p_2       p_3        p_4  \\\n",
       "0                0 -127.800274 -54.154816 -47.741916 -9.507443  51.966193   \n",
       "1                1 -127.768803 -54.123383 -47.738719 -9.455319  51.967693   \n",
       "2                2 -127.625772 -54.303811 -47.982165 -9.325753  51.963625   \n",
       "3                3 -127.479695 -54.327131 -48.288432 -9.243717  51.951160   \n",
       "4                4 -127.598297 -53.855411 -48.800676 -9.379561  51.936331   \n",
       "...            ...         ...        ...        ...       ...        ...   \n",
       "449914      449914 -141.318386 -58.427159 -66.254251 -9.280435 -46.508155   \n",
       "449915      449915 -141.202033 -57.611166 -66.615572 -9.485075 -46.515932   \n",
       "449916      449916 -141.234248 -57.227585 -66.427084 -9.571052 -46.518612   \n",
       "449917      449917 -141.544191 -57.073277 -66.506375 -9.727996 -46.517102   \n",
       "449918      449918 -141.437740 -56.770660 -66.817153 -9.719421 -46.521181   \n",
       "\n",
       "             p_5       p_6       p_7       p_8  ...      p_16      p_17  \\\n",
       "0      -1.021234  2.048087 -0.628924 -2.053950  ...  0.256739 -0.171998   \n",
       "1      -0.999320  2.060894 -0.632075 -2.052076  ...  0.261789 -0.173308   \n",
       "2      -0.999087  2.067530 -0.634220 -2.018816  ...  0.259136 -0.174245   \n",
       "3      -1.031954  1.983926 -0.633737 -1.994673  ...  0.253910 -0.173540   \n",
       "4      -1.059339  1.856140 -0.635268 -1.966480  ...  0.246103 -0.171918   \n",
       "...          ...       ...       ...       ...  ...       ...       ...   \n",
       "449914  0.792370  1.750599 -1.132727  1.579231  ... -0.147232  0.173335   \n",
       "449915  0.773078  1.692998 -1.130181  1.564195  ... -0.149221  0.174025   \n",
       "449916  0.740970  1.685434 -1.126155  1.599301  ... -0.150075  0.173005   \n",
       "449917  0.747870  1.678729 -1.128212  1.622278  ... -0.150466  0.172645   \n",
       "449918  0.764359  1.665595 -1.131558  1.622730  ... -0.149845  0.172902   \n",
       "\n",
       "            p_18      p_19      p_20      p_21      p_22      p_23      p_24  \\\n",
       "0      -0.018811 -0.029206  0.018685 -0.045521 -0.009932  0.003885 -0.016100   \n",
       "1      -0.020864 -0.029728  0.018684 -0.038593 -0.010118  0.004012 -0.015703   \n",
       "2      -0.019789 -0.030218  0.017814 -0.023013 -0.011533  0.003967 -0.015316   \n",
       "3      -0.018646 -0.029524  0.016522 -0.006551 -0.011410  0.003876 -0.015194   \n",
       "4      -0.016312 -0.028308  0.014878  0.006208 -0.010750  0.003772 -0.014879   \n",
       "...          ...       ...       ...       ...       ...       ...       ...   \n",
       "449914  0.060451 -0.011917  0.007879  0.010321  0.001584  0.003543  0.009893   \n",
       "449915  0.061566 -0.011490  0.007653  0.006354  0.001600  0.003444  0.009565   \n",
       "449916  0.062941 -0.012465  0.008343 -0.000071  0.001928  0.003395  0.009362   \n",
       "449917  0.063738 -0.012915  0.008605 -0.003801  0.001917  0.003337  0.009188   \n",
       "449918  0.064499 -0.012522  0.008003 -0.010954  0.001100  0.003235  0.009273   \n",
       "\n",
       "        label  \n",
       "0           0  \n",
       "1           0  \n",
       "2           0  \n",
       "3           0  \n",
       "4           0  \n",
       "...       ...  \n",
       "449914      0  \n",
       "449915      0  \n",
       "449916      0  \n",
       "449917      0  \n",
       "449918      0  \n",
       "\n",
       "[449919 rows x 27 columns]>"
      ]
     },
     "execution_count": 10,
     "metadata": {},
     "output_type": "execute_result"
    }
   ],
   "source": [
    "data = pd.read_csv('pca_result.csv')\n",
    "# df = data['Timestamp','FIT101','LIT101','MV101','P101','P102','AIT201','AIT202','AIT203','FIT201','MV201','P201','P202','P203','P204','P205','P206','DPIT301','FIT301','LIT301','MV301','MV302','MV303','MV304','P301','P302','AIT401','AIT402','FIT401','LIT401','P401','P402','P403','P404','UV401','AIT501','AIT502','AIT503','AIT504','FIT501','FIT502','FIT503','FIT504','P501','P502','PIT501','PIT502','PIT503','FIT601','P601','P602','P603','Normal/Attack']\n",
    "data.info"
   ]
  },
  {
   "cell_type": "code",
   "execution_count": 11,
   "metadata": {},
   "outputs": [
    {
     "data": {
      "text/html": [
       "<div>\n",
       "<style scoped>\n",
       "    .dataframe tbody tr th:only-of-type {\n",
       "        vertical-align: middle;\n",
       "    }\n",
       "\n",
       "    .dataframe tbody tr th {\n",
       "        vertical-align: top;\n",
       "    }\n",
       "\n",
       "    .dataframe thead th {\n",
       "        text-align: right;\n",
       "    }\n",
       "</style>\n",
       "<table border=\"1\" class=\"dataframe\">\n",
       "  <thead>\n",
       "    <tr style=\"text-align: right;\">\n",
       "      <th></th>\n",
       "      <th>Unnamed: 0</th>\n",
       "      <th>p_0</th>\n",
       "      <th>p_1</th>\n",
       "      <th>p_2</th>\n",
       "      <th>p_3</th>\n",
       "      <th>p_4</th>\n",
       "      <th>p_5</th>\n",
       "      <th>p_6</th>\n",
       "      <th>p_7</th>\n",
       "      <th>p_8</th>\n",
       "      <th>...</th>\n",
       "      <th>p_16</th>\n",
       "      <th>p_17</th>\n",
       "      <th>p_18</th>\n",
       "      <th>p_19</th>\n",
       "      <th>p_20</th>\n",
       "      <th>p_21</th>\n",
       "      <th>p_22</th>\n",
       "      <th>p_23</th>\n",
       "      <th>p_24</th>\n",
       "      <th>label</th>\n",
       "    </tr>\n",
       "  </thead>\n",
       "  <tbody>\n",
       "    <tr>\n",
       "      <th>0</th>\n",
       "      <td>0</td>\n",
       "      <td>-127.800274</td>\n",
       "      <td>-54.154816</td>\n",
       "      <td>-47.741916</td>\n",
       "      <td>-9.507443</td>\n",
       "      <td>51.966193</td>\n",
       "      <td>-1.021234</td>\n",
       "      <td>2.048087</td>\n",
       "      <td>-0.628924</td>\n",
       "      <td>-2.053950</td>\n",
       "      <td>...</td>\n",
       "      <td>0.256739</td>\n",
       "      <td>-0.171998</td>\n",
       "      <td>-0.018811</td>\n",
       "      <td>-0.029206</td>\n",
       "      <td>0.018685</td>\n",
       "      <td>-0.045521</td>\n",
       "      <td>-0.009932</td>\n",
       "      <td>0.003885</td>\n",
       "      <td>-0.016100</td>\n",
       "      <td>0</td>\n",
       "    </tr>\n",
       "    <tr>\n",
       "      <th>1</th>\n",
       "      <td>1</td>\n",
       "      <td>-127.768803</td>\n",
       "      <td>-54.123383</td>\n",
       "      <td>-47.738719</td>\n",
       "      <td>-9.455319</td>\n",
       "      <td>51.967693</td>\n",
       "      <td>-0.999320</td>\n",
       "      <td>2.060894</td>\n",
       "      <td>-0.632075</td>\n",
       "      <td>-2.052076</td>\n",
       "      <td>...</td>\n",
       "      <td>0.261789</td>\n",
       "      <td>-0.173308</td>\n",
       "      <td>-0.020864</td>\n",
       "      <td>-0.029728</td>\n",
       "      <td>0.018684</td>\n",
       "      <td>-0.038593</td>\n",
       "      <td>-0.010118</td>\n",
       "      <td>0.004012</td>\n",
       "      <td>-0.015703</td>\n",
       "      <td>0</td>\n",
       "    </tr>\n",
       "    <tr>\n",
       "      <th>2</th>\n",
       "      <td>2</td>\n",
       "      <td>-127.625772</td>\n",
       "      <td>-54.303811</td>\n",
       "      <td>-47.982165</td>\n",
       "      <td>-9.325753</td>\n",
       "      <td>51.963625</td>\n",
       "      <td>-0.999087</td>\n",
       "      <td>2.067530</td>\n",
       "      <td>-0.634220</td>\n",
       "      <td>-2.018816</td>\n",
       "      <td>...</td>\n",
       "      <td>0.259136</td>\n",
       "      <td>-0.174245</td>\n",
       "      <td>-0.019789</td>\n",
       "      <td>-0.030218</td>\n",
       "      <td>0.017814</td>\n",
       "      <td>-0.023013</td>\n",
       "      <td>-0.011533</td>\n",
       "      <td>0.003967</td>\n",
       "      <td>-0.015316</td>\n",
       "      <td>0</td>\n",
       "    </tr>\n",
       "    <tr>\n",
       "      <th>3</th>\n",
       "      <td>3</td>\n",
       "      <td>-127.479695</td>\n",
       "      <td>-54.327131</td>\n",
       "      <td>-48.288432</td>\n",
       "      <td>-9.243717</td>\n",
       "      <td>51.951160</td>\n",
       "      <td>-1.031954</td>\n",
       "      <td>1.983926</td>\n",
       "      <td>-0.633737</td>\n",
       "      <td>-1.994673</td>\n",
       "      <td>...</td>\n",
       "      <td>0.253910</td>\n",
       "      <td>-0.173540</td>\n",
       "      <td>-0.018646</td>\n",
       "      <td>-0.029524</td>\n",
       "      <td>0.016522</td>\n",
       "      <td>-0.006551</td>\n",
       "      <td>-0.011410</td>\n",
       "      <td>0.003876</td>\n",
       "      <td>-0.015194</td>\n",
       "      <td>0</td>\n",
       "    </tr>\n",
       "    <tr>\n",
       "      <th>4</th>\n",
       "      <td>4</td>\n",
       "      <td>-127.598297</td>\n",
       "      <td>-53.855411</td>\n",
       "      <td>-48.800676</td>\n",
       "      <td>-9.379561</td>\n",
       "      <td>51.936331</td>\n",
       "      <td>-1.059339</td>\n",
       "      <td>1.856140</td>\n",
       "      <td>-0.635268</td>\n",
       "      <td>-1.966480</td>\n",
       "      <td>...</td>\n",
       "      <td>0.246103</td>\n",
       "      <td>-0.171918</td>\n",
       "      <td>-0.016312</td>\n",
       "      <td>-0.028308</td>\n",
       "      <td>0.014878</td>\n",
       "      <td>0.006208</td>\n",
       "      <td>-0.010750</td>\n",
       "      <td>0.003772</td>\n",
       "      <td>-0.014879</td>\n",
       "      <td>0</td>\n",
       "    </tr>\n",
       "  </tbody>\n",
       "</table>\n",
       "<p>5 rows × 27 columns</p>\n",
       "</div>"
      ],
      "text/plain": [
       "   Unnamed: 0         p_0        p_1        p_2       p_3        p_4  \\\n",
       "0           0 -127.800274 -54.154816 -47.741916 -9.507443  51.966193   \n",
       "1           1 -127.768803 -54.123383 -47.738719 -9.455319  51.967693   \n",
       "2           2 -127.625772 -54.303811 -47.982165 -9.325753  51.963625   \n",
       "3           3 -127.479695 -54.327131 -48.288432 -9.243717  51.951160   \n",
       "4           4 -127.598297 -53.855411 -48.800676 -9.379561  51.936331   \n",
       "\n",
       "        p_5       p_6       p_7       p_8  ...      p_16      p_17      p_18  \\\n",
       "0 -1.021234  2.048087 -0.628924 -2.053950  ...  0.256739 -0.171998 -0.018811   \n",
       "1 -0.999320  2.060894 -0.632075 -2.052076  ...  0.261789 -0.173308 -0.020864   \n",
       "2 -0.999087  2.067530 -0.634220 -2.018816  ...  0.259136 -0.174245 -0.019789   \n",
       "3 -1.031954  1.983926 -0.633737 -1.994673  ...  0.253910 -0.173540 -0.018646   \n",
       "4 -1.059339  1.856140 -0.635268 -1.966480  ...  0.246103 -0.171918 -0.016312   \n",
       "\n",
       "       p_19      p_20      p_21      p_22      p_23      p_24  label  \n",
       "0 -0.029206  0.018685 -0.045521 -0.009932  0.003885 -0.016100      0  \n",
       "1 -0.029728  0.018684 -0.038593 -0.010118  0.004012 -0.015703      0  \n",
       "2 -0.030218  0.017814 -0.023013 -0.011533  0.003967 -0.015316      0  \n",
       "3 -0.029524  0.016522 -0.006551 -0.011410  0.003876 -0.015194      0  \n",
       "4 -0.028308  0.014878  0.006208 -0.010750  0.003772 -0.014879      0  \n",
       "\n",
       "[5 rows x 27 columns]"
      ]
     },
     "execution_count": 11,
     "metadata": {},
     "output_type": "execute_result"
    }
   ],
   "source": [
    "data.head()"
   ]
  },
  {
   "cell_type": "markdown",
   "metadata": {},
   "source": [
    "- change label to 0/1 (Normal/Attack)"
   ]
  },
  {
   "cell_type": "code",
   "execution_count": 12,
   "metadata": {},
   "outputs": [
    {
     "data": {
      "text/plain": [
       "array([0, 1], dtype=int64)"
      ]
     },
     "execution_count": 12,
     "metadata": {},
     "output_type": "execute_result"
    }
   ],
   "source": [
    "# data['label'] = pd.factorize(data['Normal/Attack'])[0].astype(np.uint16)\n",
    "data['label'].unique()"
   ]
  },
  {
   "cell_type": "markdown",
   "metadata": {},
   "source": [
    "- change timestamp to datetime format"
   ]
  },
  {
   "cell_type": "code",
   "execution_count": 6,
   "metadata": {},
   "outputs": [],
   "source": [
    "# separate the date\n",
    "# train_dates = pd.to_datetime(data[' Timestamp'])"
   ]
  },
  {
   "cell_type": "code",
   "execution_count": 13,
   "metadata": {},
   "outputs": [
    {
     "data": {
      "text/plain": [
       "(449919, 25)"
      ]
     },
     "execution_count": 13,
     "metadata": {},
     "output_type": "execute_result"
    }
   ],
   "source": [
    "# separate the label\n",
    "train_label = data['label']\n",
    "#drop timestamp, label, and ex label column\n",
    "data = data.drop(['label', 'Unnamed: 0'], axis=1)\n",
    "# change type to float\n",
    "data = data.astype(float, errors = 'raise')\n",
    "data.shape"
   ]
  },
  {
   "cell_type": "code",
   "execution_count": 14,
   "metadata": {},
   "outputs": [],
   "source": [
    "# normalize the data\n",
    "scaler = StandardScaler()\n",
    "scaler = scaler.fit(data)\n",
    "df_for_training_scaled = scaler.transform(data)"
   ]
  },
  {
   "cell_type": "code",
   "execution_count": 15,
   "metadata": {},
   "outputs": [
    {
     "data": {
      "text/plain": [
       "(449880, 25)"
      ]
     },
     "execution_count": 15,
     "metadata": {},
     "output_type": "execute_result"
    }
   ],
   "source": [
    "# delete last 39 rows, because we want to reshape to 60 length \n",
    "df_for_training_scaled = df_for_training_scaled[:-39, :]\n",
    "df_for_training_scaled.shape"
   ]
  },
  {
   "cell_type": "code",
   "execution_count": null,
   "metadata": {},
   "outputs": [],
   "source": []
  },
  {
   "cell_type": "code",
   "execution_count": 16,
   "metadata": {},
   "outputs": [
    {
     "data": {
      "text/plain": [
       "(25, 449880)"
      ]
     },
     "execution_count": 16,
     "metadata": {},
     "output_type": "execute_result"
    }
   ],
   "source": [
    "# Transpose data before splitting\n",
    "transposed_data = df_for_training_scaled.T\n",
    "transposed_data.shape"
   ]
  },
  {
   "cell_type": "code",
   "execution_count": 17,
   "metadata": {},
   "outputs": [
    {
     "data": {
      "text/plain": [
       "(7498, 25, 60)"
      ]
     },
     "execution_count": 17,
     "metadata": {},
     "output_type": "execute_result"
    }
   ],
   "source": [
    "splitted_data = np.hsplit(transposed_data,7498) #equally 60 length\n",
    "X_train = np.asarray(splitted_data)\n",
    "X_train.shape"
   ]
  },
  {
   "cell_type": "markdown",
   "metadata": {},
   "source": [
    "now create the label train_Y"
   ]
  },
  {
   "cell_type": "code",
   "execution_count": 18,
   "metadata": {},
   "outputs": [
    {
     "data": {
      "text/plain": [
       "(7498, 60)"
      ]
     },
     "execution_count": 18,
     "metadata": {},
     "output_type": "execute_result"
    }
   ],
   "source": [
    "train_label = np.asarray(train_label)\n",
    "train_label = train_label[:-39] #remove last 39 labels\n",
    "splitted_train_label = np.split(train_label,7498) #split to equally 60\n",
    "yarr = np.asarray(splitted_train_label)\n",
    "yarr.shape"
   ]
  },
  {
   "cell_type": "code",
   "execution_count": 19,
   "metadata": {},
   "outputs": [],
   "source": [
    "def linear_search(values, search_for):\n",
    "   search_at = 0\n",
    "   search_res = False\n",
    "# Match the value with each data element\t\n",
    "   while search_at < len(values) and search_res is False:\n",
    "      if values[search_at] == search_for:\n",
    "         search_res = True\n",
    "      else:\n",
    "         search_at = search_at + 1\n",
    "   return search_res"
   ]
  },
  {
   "cell_type": "code",
   "execution_count": 20,
   "metadata": {},
   "outputs": [],
   "source": [
    "Y_train = []\n",
    "for i in range(len(yarr)):\n",
    "    attacked = linear_search(yarr[i], 1) #if we find 1 in 60 label (1 hour), true = attacked, false = normal\n",
    "    Y_train.append(attacked)\n",
    "\n",
    "Y_train = np.array(Y_train).astype('uint8')"
   ]
  },
  {
   "cell_type": "code",
   "execution_count": 21,
   "metadata": {},
   "outputs": [
    {
     "data": {
      "text/plain": [
       "(7498, 1)"
      ]
     },
     "execution_count": 21,
     "metadata": {},
     "output_type": "execute_result"
    }
   ],
   "source": [
    "Y_train = np.reshape(Y_train, (len(Y_train), 1)) #reshape to match the input for cnn\n",
    "Y_train.shape"
   ]
  },
  {
   "cell_type": "code",
   "execution_count": 22,
   "metadata": {},
   "outputs": [],
   "source": [
    "train_X, test_X, train_Y, test_Y = train_test_split(X_train, Y_train, test_size=0.25, random_state=42, shuffle=False)"
   ]
  },
  {
   "cell_type": "code",
   "execution_count": 23,
   "metadata": {},
   "outputs": [
    {
     "name": "stdout",
     "output_type": "stream",
     "text": [
      "train_X shape =  (5623, 25, 60)\n",
      "train_Y shape =  (5623, 1)\n",
      "test_X shape =  (1875, 25, 60)\n",
      "test_Y shape =  (1875, 1)\n"
     ]
    }
   ],
   "source": [
    "print(\"train_X shape = \", train_X.shape)\n",
    "print(\"train_Y shape = \", train_Y.shape)\n",
    "print(\"test_X shape = \", test_X.shape)\n",
    "print(\"test_Y shape = \", test_Y.shape)"
   ]
  },
  {
   "cell_type": "code",
   "execution_count": 24,
   "metadata": {},
   "outputs": [],
   "source": [
    "# save numpy array as npy file\n",
    "from numpy import save\n",
    "# save to npy file\n",
    "save('X_train.npy', train_X)\n",
    "save('y_train.npy', train_Y)\n",
    "save('X_test.npy', test_X)\n",
    "save('y_test.npy', test_Y)"
   ]
  }
 ],
 "metadata": {
  "kernelspec": {
   "display_name": "Python 3.10.6 64-bit",
   "language": "python",
   "name": "python3"
  },
  "language_info": {
   "codemirror_mode": {
    "name": "ipython",
    "version": 3
   },
   "file_extension": ".py",
   "mimetype": "text/x-python",
   "name": "python",
   "nbconvert_exporter": "python",
   "pygments_lexer": "ipython3",
   "version": "3.10.6"
  },
  "orig_nbformat": 4,
  "vscode": {
   "interpreter": {
    "hash": "ceb4bfb641b0783044b652f84fa4da1e13fe89464d09974bae0ff10892d6a6b5"
   }
  }
 },
 "nbformat": 4,
 "nbformat_minor": 2
}
