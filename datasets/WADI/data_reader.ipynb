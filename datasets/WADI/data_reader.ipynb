{
 "cells": [
  {
   "cell_type": "code",
   "execution_count": 1,
   "metadata": {},
   "outputs": [],
   "source": [
    "import numpy as np\n",
    "test_X = np.load('X_test.npy')\n",
    "test_Y = np.load('y_test.npy')"
   ]
  },
  {
   "cell_type": "code",
   "execution_count": 6,
   "metadata": {},
   "outputs": [
    {
     "data": {
      "text/plain": [
       "array([[ 0.65287981,  0.64132335,  0.62761705, ...,  0.61418011,\n",
       "         0.60181725,  0.59832313],\n",
       "       [-0.68240952, -0.68209588, -0.68052927, ..., -0.71310953,\n",
       "        -0.71060281, -0.7090362 ],\n",
       "       [ 0.69386093,  0.69386093,  0.69386093, ...,  0.69386093,\n",
       "         0.69386093,  0.69386093],\n",
       "       ...,\n",
       "       [ 0.        ,  0.        ,  0.        , ...,  0.        ,\n",
       "         0.        ,  0.        ],\n",
       "       [-0.09582784, -0.09582784, -0.09582784, ..., -0.09582784,\n",
       "        -0.09582784, -0.09582784],\n",
       "       [ 0.        ,  0.        ,  0.        , ...,  0.        ,\n",
       "         0.        ,  0.        ]])"
      ]
     },
     "execution_count": 6,
     "metadata": {},
     "output_type": "execute_result"
    }
   ],
   "source": [
    "test_X[171]"
   ]
  },
  {
   "cell_type": "code",
   "execution_count": 7,
   "metadata": {},
   "outputs": [
    {
     "data": {
      "text/plain": [
       "array([1], dtype=uint8)"
      ]
     },
     "execution_count": 7,
     "metadata": {},
     "output_type": "execute_result"
    }
   ],
   "source": [
    "test_Y[172]"
   ]
  },
  {
   "cell_type": "code",
   "execution_count": 2,
   "metadata": {},
   "outputs": [
    {
     "data": {
      "text/plain": [
       "(array([295, 296, 317, 318, 319, 320, 321, 322, 323, 324, 325, 326, 327,\n",
       "        328, 329, 330, 331, 335, 336, 337, 338, 339, 340, 341, 342, 343,\n",
       "        344, 345, 346, 347, 359, 360, 361, 362, 363, 364, 365, 376, 377,\n",
       "        378, 379, 380, 381, 382, 383, 384, 385, 566, 567, 568, 569, 570,\n",
       "        571, 572, 573, 574, 575, 576, 577], dtype=int64),\n",
       " array([0, 0, 0, 0, 0, 0, 0, 0, 0, 0, 0, 0, 0, 0, 0, 0, 0, 0, 0, 0, 0, 0,\n",
       "        0, 0, 0, 0, 0, 0, 0, 0, 0, 0, 0, 0, 0, 0, 0, 0, 0, 0, 0, 0, 0, 0,\n",
       "        0, 0, 0, 0, 0, 0, 0, 0, 0, 0, 0, 0, 0, 0, 0], dtype=int64))"
      ]
     },
     "execution_count": 2,
     "metadata": {},
     "output_type": "execute_result"
    }
   ],
   "source": [
    "id = np.where(test_Y == 1)\n",
    "id"
   ]
  }
 ],
 "metadata": {
  "kernelspec": {
   "display_name": "Python 3.10.6 64-bit",
   "language": "python",
   "name": "python3"
  },
  "language_info": {
   "codemirror_mode": {
    "name": "ipython",
    "version": 3
   },
   "file_extension": ".py",
   "mimetype": "text/x-python",
   "name": "python",
   "nbconvert_exporter": "python",
   "pygments_lexer": "ipython3",
   "version": "3.10.6"
  },
  "orig_nbformat": 4,
  "vscode": {
   "interpreter": {
    "hash": "ceb4bfb641b0783044b652f84fa4da1e13fe89464d09974bae0ff10892d6a6b5"
   }
  }
 },
 "nbformat": 4,
 "nbformat_minor": 2
}
