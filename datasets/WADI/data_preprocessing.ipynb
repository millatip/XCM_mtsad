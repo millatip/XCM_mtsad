{
 "cells": [
  {
   "cell_type": "markdown",
   "metadata": {},
   "source": [
    "to do:\n",
    "train_X :\n",
    "- change label to 0/1 (Normal/Attack)\n",
    "- Normalize data\n",
    "- Split to matrix (60 * var_length) = 60 because 1 hour\n",
    "- transpose matrix to (var_lenth * 60)\n",
    "\n",
    "train_Y :\n",
    "- split to matrix @60\n",
    "- if in the matrix there is 1 (attack) make label as 1 \n",
    "\n",
    "Input shape:\n",
    "(49990, 53)\n",
    "Expected output shape:\n",
    "train_X: (7498, 52, 60)\n",
    "train_Y: (7498, 1)"
   ]
  },
  {
   "cell_type": "code",
   "execution_count": 1,
   "metadata": {},
   "outputs": [],
   "source": [
    "import pandas as pd\n",
    "import numpy as np\n",
    "from sklearn.preprocessing import StandardScaler\n",
    "from sklearn.model_selection import train_test_split"
   ]
  },
  {
   "cell_type": "code",
   "execution_count": 20,
   "metadata": {},
   "outputs": [
    {
     "data": {
      "text/plain": [
       "<bound method DataFrame.info of         1_AIT_001_PV  1_AIT_002_PV  1_AIT_003_PV  1_AIT_004_PV  1_AIT_005_PV  \\\n",
       "0            164.210      0.529486       11.9972       482.480      0.331167   \n",
       "1            164.210      0.529486       11.9972       482.480      0.331167   \n",
       "2            164.210      0.529486       11.9972       482.480      0.331167   \n",
       "3            164.210      0.529486       11.9972       482.480      0.331167   \n",
       "4            164.210      0.529486       11.9972       482.480      0.331167   \n",
       "...              ...           ...           ...           ...           ...   \n",
       "172798       172.915      0.583479       11.9211       466.051      0.318317   \n",
       "172799       172.915      0.583479       11.9211       466.051      0.318317   \n",
       "172800       172.915      0.583479       11.9211       466.051      0.318317   \n",
       "172801           NaN           NaN           NaN           NaN           NaN   \n",
       "172802           NaN           NaN           NaN           NaN           NaN   \n",
       "\n",
       "        1_FIT_001_PV  1_LS_001_AL  1_LS_002_AL  1_LT_001_PV  1_MV_001_STATUS  \\\n",
       "0           0.001273          0.0          0.0       48.482              1.0   \n",
       "1           0.001273          0.0          0.0       48.482              1.0   \n",
       "2           0.001273          0.0          0.0       48.482              1.0   \n",
       "3           0.001273          0.0          0.0       48.482              1.0   \n",
       "4           0.001273          0.0          0.0       48.482              1.0   \n",
       "...              ...          ...          ...          ...              ...   \n",
       "172798      0.001260          0.0          0.0       55.726              1.0   \n",
       "172799      0.001260          0.0          0.0       55.726              1.0   \n",
       "172800      0.001260          0.0          0.0       55.726              1.0   \n",
       "172801           NaN          NaN          NaN          NaN              NaN   \n",
       "172802           NaN          NaN          NaN          NaN              NaN   \n",
       "\n",
       "        ...  3_MV_002_STATUS  3_MV_003_STATUS  3_P_001_STATUS  3_P_002_STATUS  \\\n",
       "0       ...              1.0              1.0             1.0             1.0   \n",
       "1       ...              1.0              1.0             1.0             1.0   \n",
       "2       ...              1.0              1.0             1.0             1.0   \n",
       "3       ...              1.0              1.0             1.0             1.0   \n",
       "4       ...              1.0              1.0             1.0             1.0   \n",
       "...     ...              ...              ...             ...             ...   \n",
       "172798  ...              1.0              1.0             1.0             1.0   \n",
       "172799  ...              1.0              1.0             1.0             1.0   \n",
       "172800  ...              1.0              1.0             1.0             1.0   \n",
       "172801  ...              NaN              NaN             NaN             NaN   \n",
       "172802  ...              NaN              NaN             NaN             NaN   \n",
       "\n",
       "        3_P_003_STATUS  3_P_004_STATUS  LEAK_DIFF_PRESSURE  \\\n",
       "0                  1.0             1.0             62.6226   \n",
       "1                  1.0             1.0             62.6226   \n",
       "2                  1.0             1.0             62.6226   \n",
       "3                  1.0             1.0             62.6226   \n",
       "4                  1.0             1.0             62.6226   \n",
       "...                ...             ...                 ...   \n",
       "172798             1.0             1.0             58.8102   \n",
       "172799             1.0             1.0             58.8102   \n",
       "172800             1.0             1.0             58.8102   \n",
       "172801             NaN             NaN                 NaN   \n",
       "172802             NaN             NaN                 NaN   \n",
       "\n",
       "        PLANT_START_STOP_LOG  TOTAL_CONS_REQUIRED_FLOW  \\\n",
       "0                        1.0                      0.39   \n",
       "1                        1.0                      0.39   \n",
       "2                        1.0                      0.39   \n",
       "3                        1.0                      0.39   \n",
       "4                        1.0                      0.39   \n",
       "...                      ...                       ...   \n",
       "172798                   1.0                      0.00   \n",
       "172799                   1.0                      0.00   \n",
       "172800                   1.0                      0.00   \n",
       "172801                   NaN                       NaN   \n",
       "172802                   NaN                       NaN   \n",
       "\n",
       "        Attack LABLE (1:No Attack, -1:Attack)  \n",
       "0                                           1  \n",
       "1                                           1  \n",
       "2                                           1  \n",
       "3                                           1  \n",
       "4                                           1  \n",
       "...                                       ...  \n",
       "172798                                      1  \n",
       "172799                                      1  \n",
       "172800                                      1  \n",
       "172801                                      1  \n",
       "172802                                      1  \n",
       "\n",
       "[172803 rows x 124 columns]>"
      ]
     },
     "execution_count": 20,
     "metadata": {},
     "output_type": "execute_result"
    }
   ],
   "source": [
    "data = pd.read_csv('WADI.csv')\n",
    "# df = data['Timestamp','FIT101','LIT101','MV101','P101','P102','AIT201','AIT202','AIT203','FIT201','MV201','P201','P202','P203','P204','P205','P206','DPIT301','FIT301','LIT301','MV301','MV302','MV303','MV304','P301','P302','AIT401','AIT402','FIT401','LIT401','P401','P402','P403','P404','UV401','AIT501','AIT502','AIT503','AIT504','FIT501','FIT502','FIT503','FIT504','P501','P502','PIT501','PIT502','PIT503','FIT601','P601','P602','P603','Normal/Attack']\n",
    "data.info"
   ]
  },
  {
   "cell_type": "code",
   "execution_count": 21,
   "metadata": {},
   "outputs": [
    {
     "data": {
      "text/html": [
       "<div>\n",
       "<style scoped>\n",
       "    .dataframe tbody tr th:only-of-type {\n",
       "        vertical-align: middle;\n",
       "    }\n",
       "\n",
       "    .dataframe tbody tr th {\n",
       "        vertical-align: top;\n",
       "    }\n",
       "\n",
       "    .dataframe thead th {\n",
       "        text-align: right;\n",
       "    }\n",
       "</style>\n",
       "<table border=\"1\" class=\"dataframe\">\n",
       "  <thead>\n",
       "    <tr style=\"text-align: right;\">\n",
       "      <th></th>\n",
       "      <th>1_AIT_001_PV</th>\n",
       "      <th>1_AIT_002_PV</th>\n",
       "      <th>1_AIT_003_PV</th>\n",
       "      <th>1_AIT_004_PV</th>\n",
       "      <th>1_AIT_005_PV</th>\n",
       "      <th>1_FIT_001_PV</th>\n",
       "      <th>1_LS_001_AL</th>\n",
       "      <th>1_LS_002_AL</th>\n",
       "      <th>1_LT_001_PV</th>\n",
       "      <th>1_MV_001_STATUS</th>\n",
       "      <th>...</th>\n",
       "      <th>3_MV_002_STATUS</th>\n",
       "      <th>3_MV_003_STATUS</th>\n",
       "      <th>3_P_001_STATUS</th>\n",
       "      <th>3_P_002_STATUS</th>\n",
       "      <th>3_P_003_STATUS</th>\n",
       "      <th>3_P_004_STATUS</th>\n",
       "      <th>LEAK_DIFF_PRESSURE</th>\n",
       "      <th>PLANT_START_STOP_LOG</th>\n",
       "      <th>TOTAL_CONS_REQUIRED_FLOW</th>\n",
       "      <th>Attack LABLE (1:No Attack, -1:Attack)</th>\n",
       "    </tr>\n",
       "  </thead>\n",
       "  <tbody>\n",
       "    <tr>\n",
       "      <th>0</th>\n",
       "      <td>164.21</td>\n",
       "      <td>0.529486</td>\n",
       "      <td>11.9972</td>\n",
       "      <td>482.48</td>\n",
       "      <td>0.331167</td>\n",
       "      <td>0.001273</td>\n",
       "      <td>0.0</td>\n",
       "      <td>0.0</td>\n",
       "      <td>48.482</td>\n",
       "      <td>1.0</td>\n",
       "      <td>...</td>\n",
       "      <td>1.0</td>\n",
       "      <td>1.0</td>\n",
       "      <td>1.0</td>\n",
       "      <td>1.0</td>\n",
       "      <td>1.0</td>\n",
       "      <td>1.0</td>\n",
       "      <td>62.6226</td>\n",
       "      <td>1.0</td>\n",
       "      <td>0.39</td>\n",
       "      <td>1</td>\n",
       "    </tr>\n",
       "    <tr>\n",
       "      <th>1</th>\n",
       "      <td>164.21</td>\n",
       "      <td>0.529486</td>\n",
       "      <td>11.9972</td>\n",
       "      <td>482.48</td>\n",
       "      <td>0.331167</td>\n",
       "      <td>0.001273</td>\n",
       "      <td>0.0</td>\n",
       "      <td>0.0</td>\n",
       "      <td>48.482</td>\n",
       "      <td>1.0</td>\n",
       "      <td>...</td>\n",
       "      <td>1.0</td>\n",
       "      <td>1.0</td>\n",
       "      <td>1.0</td>\n",
       "      <td>1.0</td>\n",
       "      <td>1.0</td>\n",
       "      <td>1.0</td>\n",
       "      <td>62.6226</td>\n",
       "      <td>1.0</td>\n",
       "      <td>0.39</td>\n",
       "      <td>1</td>\n",
       "    </tr>\n",
       "    <tr>\n",
       "      <th>2</th>\n",
       "      <td>164.21</td>\n",
       "      <td>0.529486</td>\n",
       "      <td>11.9972</td>\n",
       "      <td>482.48</td>\n",
       "      <td>0.331167</td>\n",
       "      <td>0.001273</td>\n",
       "      <td>0.0</td>\n",
       "      <td>0.0</td>\n",
       "      <td>48.482</td>\n",
       "      <td>1.0</td>\n",
       "      <td>...</td>\n",
       "      <td>1.0</td>\n",
       "      <td>1.0</td>\n",
       "      <td>1.0</td>\n",
       "      <td>1.0</td>\n",
       "      <td>1.0</td>\n",
       "      <td>1.0</td>\n",
       "      <td>62.6226</td>\n",
       "      <td>1.0</td>\n",
       "      <td>0.39</td>\n",
       "      <td>1</td>\n",
       "    </tr>\n",
       "    <tr>\n",
       "      <th>3</th>\n",
       "      <td>164.21</td>\n",
       "      <td>0.529486</td>\n",
       "      <td>11.9972</td>\n",
       "      <td>482.48</td>\n",
       "      <td>0.331167</td>\n",
       "      <td>0.001273</td>\n",
       "      <td>0.0</td>\n",
       "      <td>0.0</td>\n",
       "      <td>48.482</td>\n",
       "      <td>1.0</td>\n",
       "      <td>...</td>\n",
       "      <td>1.0</td>\n",
       "      <td>1.0</td>\n",
       "      <td>1.0</td>\n",
       "      <td>1.0</td>\n",
       "      <td>1.0</td>\n",
       "      <td>1.0</td>\n",
       "      <td>62.6226</td>\n",
       "      <td>1.0</td>\n",
       "      <td>0.39</td>\n",
       "      <td>1</td>\n",
       "    </tr>\n",
       "    <tr>\n",
       "      <th>4</th>\n",
       "      <td>164.21</td>\n",
       "      <td>0.529486</td>\n",
       "      <td>11.9972</td>\n",
       "      <td>482.48</td>\n",
       "      <td>0.331167</td>\n",
       "      <td>0.001273</td>\n",
       "      <td>0.0</td>\n",
       "      <td>0.0</td>\n",
       "      <td>48.482</td>\n",
       "      <td>1.0</td>\n",
       "      <td>...</td>\n",
       "      <td>1.0</td>\n",
       "      <td>1.0</td>\n",
       "      <td>1.0</td>\n",
       "      <td>1.0</td>\n",
       "      <td>1.0</td>\n",
       "      <td>1.0</td>\n",
       "      <td>62.6226</td>\n",
       "      <td>1.0</td>\n",
       "      <td>0.39</td>\n",
       "      <td>1</td>\n",
       "    </tr>\n",
       "  </tbody>\n",
       "</table>\n",
       "<p>5 rows × 124 columns</p>\n",
       "</div>"
      ],
      "text/plain": [
       "   1_AIT_001_PV  1_AIT_002_PV  1_AIT_003_PV  1_AIT_004_PV  1_AIT_005_PV  \\\n",
       "0        164.21      0.529486       11.9972        482.48      0.331167   \n",
       "1        164.21      0.529486       11.9972        482.48      0.331167   \n",
       "2        164.21      0.529486       11.9972        482.48      0.331167   \n",
       "3        164.21      0.529486       11.9972        482.48      0.331167   \n",
       "4        164.21      0.529486       11.9972        482.48      0.331167   \n",
       "\n",
       "   1_FIT_001_PV  1_LS_001_AL  1_LS_002_AL  1_LT_001_PV  1_MV_001_STATUS  ...  \\\n",
       "0      0.001273          0.0          0.0       48.482              1.0  ...   \n",
       "1      0.001273          0.0          0.0       48.482              1.0  ...   \n",
       "2      0.001273          0.0          0.0       48.482              1.0  ...   \n",
       "3      0.001273          0.0          0.0       48.482              1.0  ...   \n",
       "4      0.001273          0.0          0.0       48.482              1.0  ...   \n",
       "\n",
       "   3_MV_002_STATUS  3_MV_003_STATUS  3_P_001_STATUS  3_P_002_STATUS  \\\n",
       "0              1.0              1.0             1.0             1.0   \n",
       "1              1.0              1.0             1.0             1.0   \n",
       "2              1.0              1.0             1.0             1.0   \n",
       "3              1.0              1.0             1.0             1.0   \n",
       "4              1.0              1.0             1.0             1.0   \n",
       "\n",
       "   3_P_003_STATUS  3_P_004_STATUS  LEAK_DIFF_PRESSURE  PLANT_START_STOP_LOG  \\\n",
       "0             1.0             1.0             62.6226                   1.0   \n",
       "1             1.0             1.0             62.6226                   1.0   \n",
       "2             1.0             1.0             62.6226                   1.0   \n",
       "3             1.0             1.0             62.6226                   1.0   \n",
       "4             1.0             1.0             62.6226                   1.0   \n",
       "\n",
       "   TOTAL_CONS_REQUIRED_FLOW  Attack LABLE (1:No Attack, -1:Attack)  \n",
       "0                      0.39                                      1  \n",
       "1                      0.39                                      1  \n",
       "2                      0.39                                      1  \n",
       "3                      0.39                                      1  \n",
       "4                      0.39                                      1  \n",
       "\n",
       "[5 rows x 124 columns]"
      ]
     },
     "execution_count": 21,
     "metadata": {},
     "output_type": "execute_result"
    }
   ],
   "source": [
    "data.head()"
   ]
  },
  {
   "cell_type": "markdown",
   "metadata": {},
   "source": [
    "- change label to 0/1 (Normal/Attack)"
   ]
  },
  {
   "cell_type": "code",
   "execution_count": 22,
   "metadata": {},
   "outputs": [
    {
     "data": {
      "text/plain": [
       "array([0, 1], dtype=uint16)"
      ]
     },
     "execution_count": 22,
     "metadata": {},
     "output_type": "execute_result"
    }
   ],
   "source": [
    "data['label'] = pd.factorize(data['Attack LABLE (1:No Attack, -1:Attack)'])[0].astype(np.uint16)\n",
    "data['label'].unique()"
   ]
  },
  {
   "cell_type": "code",
   "execution_count": 23,
   "metadata": {},
   "outputs": [
    {
     "data": {
      "text/html": [
       "<div>\n",
       "<style scoped>\n",
       "    .dataframe tbody tr th:only-of-type {\n",
       "        vertical-align: middle;\n",
       "    }\n",
       "\n",
       "    .dataframe tbody tr th {\n",
       "        vertical-align: top;\n",
       "    }\n",
       "\n",
       "    .dataframe thead th {\n",
       "        text-align: right;\n",
       "    }\n",
       "</style>\n",
       "<table border=\"1\" class=\"dataframe\">\n",
       "  <thead>\n",
       "    <tr style=\"text-align: right;\">\n",
       "      <th></th>\n",
       "      <th>1_AIT_001_PV</th>\n",
       "      <th>1_AIT_002_PV</th>\n",
       "      <th>1_AIT_003_PV</th>\n",
       "      <th>1_AIT_004_PV</th>\n",
       "      <th>1_AIT_005_PV</th>\n",
       "      <th>1_FIT_001_PV</th>\n",
       "      <th>1_LS_001_AL</th>\n",
       "      <th>1_LS_002_AL</th>\n",
       "      <th>1_LT_001_PV</th>\n",
       "      <th>1_MV_001_STATUS</th>\n",
       "      <th>...</th>\n",
       "      <th>3_MV_003_STATUS</th>\n",
       "      <th>3_P_001_STATUS</th>\n",
       "      <th>3_P_002_STATUS</th>\n",
       "      <th>3_P_003_STATUS</th>\n",
       "      <th>3_P_004_STATUS</th>\n",
       "      <th>LEAK_DIFF_PRESSURE</th>\n",
       "      <th>PLANT_START_STOP_LOG</th>\n",
       "      <th>TOTAL_CONS_REQUIRED_FLOW</th>\n",
       "      <th>Attack LABLE (1:No Attack, -1:Attack)</th>\n",
       "      <th>label</th>\n",
       "    </tr>\n",
       "  </thead>\n",
       "  <tbody>\n",
       "    <tr>\n",
       "      <th>0</th>\n",
       "      <td>164.21</td>\n",
       "      <td>0.529486</td>\n",
       "      <td>11.9972</td>\n",
       "      <td>482.48</td>\n",
       "      <td>0.331167</td>\n",
       "      <td>0.001273</td>\n",
       "      <td>0.0</td>\n",
       "      <td>0.0</td>\n",
       "      <td>48.482</td>\n",
       "      <td>1.0</td>\n",
       "      <td>...</td>\n",
       "      <td>1.0</td>\n",
       "      <td>1.0</td>\n",
       "      <td>1.0</td>\n",
       "      <td>1.0</td>\n",
       "      <td>1.0</td>\n",
       "      <td>62.6226</td>\n",
       "      <td>1.0</td>\n",
       "      <td>0.39</td>\n",
       "      <td>1</td>\n",
       "      <td>0</td>\n",
       "    </tr>\n",
       "    <tr>\n",
       "      <th>1</th>\n",
       "      <td>164.21</td>\n",
       "      <td>0.529486</td>\n",
       "      <td>11.9972</td>\n",
       "      <td>482.48</td>\n",
       "      <td>0.331167</td>\n",
       "      <td>0.001273</td>\n",
       "      <td>0.0</td>\n",
       "      <td>0.0</td>\n",
       "      <td>48.482</td>\n",
       "      <td>1.0</td>\n",
       "      <td>...</td>\n",
       "      <td>1.0</td>\n",
       "      <td>1.0</td>\n",
       "      <td>1.0</td>\n",
       "      <td>1.0</td>\n",
       "      <td>1.0</td>\n",
       "      <td>62.6226</td>\n",
       "      <td>1.0</td>\n",
       "      <td>0.39</td>\n",
       "      <td>1</td>\n",
       "      <td>0</td>\n",
       "    </tr>\n",
       "    <tr>\n",
       "      <th>2</th>\n",
       "      <td>164.21</td>\n",
       "      <td>0.529486</td>\n",
       "      <td>11.9972</td>\n",
       "      <td>482.48</td>\n",
       "      <td>0.331167</td>\n",
       "      <td>0.001273</td>\n",
       "      <td>0.0</td>\n",
       "      <td>0.0</td>\n",
       "      <td>48.482</td>\n",
       "      <td>1.0</td>\n",
       "      <td>...</td>\n",
       "      <td>1.0</td>\n",
       "      <td>1.0</td>\n",
       "      <td>1.0</td>\n",
       "      <td>1.0</td>\n",
       "      <td>1.0</td>\n",
       "      <td>62.6226</td>\n",
       "      <td>1.0</td>\n",
       "      <td>0.39</td>\n",
       "      <td>1</td>\n",
       "      <td>0</td>\n",
       "    </tr>\n",
       "    <tr>\n",
       "      <th>3</th>\n",
       "      <td>164.21</td>\n",
       "      <td>0.529486</td>\n",
       "      <td>11.9972</td>\n",
       "      <td>482.48</td>\n",
       "      <td>0.331167</td>\n",
       "      <td>0.001273</td>\n",
       "      <td>0.0</td>\n",
       "      <td>0.0</td>\n",
       "      <td>48.482</td>\n",
       "      <td>1.0</td>\n",
       "      <td>...</td>\n",
       "      <td>1.0</td>\n",
       "      <td>1.0</td>\n",
       "      <td>1.0</td>\n",
       "      <td>1.0</td>\n",
       "      <td>1.0</td>\n",
       "      <td>62.6226</td>\n",
       "      <td>1.0</td>\n",
       "      <td>0.39</td>\n",
       "      <td>1</td>\n",
       "      <td>0</td>\n",
       "    </tr>\n",
       "    <tr>\n",
       "      <th>4</th>\n",
       "      <td>164.21</td>\n",
       "      <td>0.529486</td>\n",
       "      <td>11.9972</td>\n",
       "      <td>482.48</td>\n",
       "      <td>0.331167</td>\n",
       "      <td>0.001273</td>\n",
       "      <td>0.0</td>\n",
       "      <td>0.0</td>\n",
       "      <td>48.482</td>\n",
       "      <td>1.0</td>\n",
       "      <td>...</td>\n",
       "      <td>1.0</td>\n",
       "      <td>1.0</td>\n",
       "      <td>1.0</td>\n",
       "      <td>1.0</td>\n",
       "      <td>1.0</td>\n",
       "      <td>62.6226</td>\n",
       "      <td>1.0</td>\n",
       "      <td>0.39</td>\n",
       "      <td>1</td>\n",
       "      <td>0</td>\n",
       "    </tr>\n",
       "  </tbody>\n",
       "</table>\n",
       "<p>5 rows × 125 columns</p>\n",
       "</div>"
      ],
      "text/plain": [
       "   1_AIT_001_PV  1_AIT_002_PV  1_AIT_003_PV  1_AIT_004_PV  1_AIT_005_PV  \\\n",
       "0        164.21      0.529486       11.9972        482.48      0.331167   \n",
       "1        164.21      0.529486       11.9972        482.48      0.331167   \n",
       "2        164.21      0.529486       11.9972        482.48      0.331167   \n",
       "3        164.21      0.529486       11.9972        482.48      0.331167   \n",
       "4        164.21      0.529486       11.9972        482.48      0.331167   \n",
       "\n",
       "   1_FIT_001_PV  1_LS_001_AL  1_LS_002_AL  1_LT_001_PV  1_MV_001_STATUS  ...  \\\n",
       "0      0.001273          0.0          0.0       48.482              1.0  ...   \n",
       "1      0.001273          0.0          0.0       48.482              1.0  ...   \n",
       "2      0.001273          0.0          0.0       48.482              1.0  ...   \n",
       "3      0.001273          0.0          0.0       48.482              1.0  ...   \n",
       "4      0.001273          0.0          0.0       48.482              1.0  ...   \n",
       "\n",
       "   3_MV_003_STATUS  3_P_001_STATUS  3_P_002_STATUS  3_P_003_STATUS  \\\n",
       "0              1.0             1.0             1.0             1.0   \n",
       "1              1.0             1.0             1.0             1.0   \n",
       "2              1.0             1.0             1.0             1.0   \n",
       "3              1.0             1.0             1.0             1.0   \n",
       "4              1.0             1.0             1.0             1.0   \n",
       "\n",
       "   3_P_004_STATUS  LEAK_DIFF_PRESSURE  PLANT_START_STOP_LOG  \\\n",
       "0             1.0             62.6226                   1.0   \n",
       "1             1.0             62.6226                   1.0   \n",
       "2             1.0             62.6226                   1.0   \n",
       "3             1.0             62.6226                   1.0   \n",
       "4             1.0             62.6226                   1.0   \n",
       "\n",
       "   TOTAL_CONS_REQUIRED_FLOW  Attack LABLE (1:No Attack, -1:Attack)  label  \n",
       "0                      0.39                                      1      0  \n",
       "1                      0.39                                      1      0  \n",
       "2                      0.39                                      1      0  \n",
       "3                      0.39                                      1      0  \n",
       "4                      0.39                                      1      0  \n",
       "\n",
       "[5 rows x 125 columns]"
      ]
     },
     "execution_count": 23,
     "metadata": {},
     "output_type": "execute_result"
    }
   ],
   "source": [
    "data.head()"
   ]
  },
  {
   "cell_type": "markdown",
   "metadata": {},
   "source": [
    "- change timestamp to datetime format"
   ]
  },
  {
   "cell_type": "code",
   "execution_count": 24,
   "metadata": {},
   "outputs": [],
   "source": [
    "data = data.drop(['Attack LABLE (1:No Attack, -1:Attack)'], axis=1)"
   ]
  },
  {
   "cell_type": "code",
   "execution_count": 25,
   "metadata": {},
   "outputs": [
    {
     "data": {
      "text/plain": [
       "(172803, 124)"
      ]
     },
     "execution_count": 25,
     "metadata": {},
     "output_type": "execute_result"
    }
   ],
   "source": [
    "# separate the label\n",
    "train_label = data['label']\n",
    "#drop timestamp, label, and ex label column\n",
    "# change type to float\n",
    "data = data.astype(float, errors = 'raise')\n",
    "data.shape"
   ]
  },
  {
   "cell_type": "code",
   "execution_count": 26,
   "metadata": {},
   "outputs": [],
   "source": [
    "data = data.drop(['label'], axis=1)"
   ]
  },
  {
   "cell_type": "code",
   "execution_count": 27,
   "metadata": {},
   "outputs": [],
   "source": [
    "# normalize the data\n",
    "scaler = StandardScaler()\n",
    "scaler = scaler.fit(data)\n",
    "df_for_training_scaled = scaler.transform(data)"
   ]
  },
  {
   "cell_type": "code",
   "execution_count": 28,
   "metadata": {},
   "outputs": [
    {
     "data": {
      "text/plain": [
       "(172800, 123)"
      ]
     },
     "execution_count": 28,
     "metadata": {},
     "output_type": "execute_result"
    }
   ],
   "source": [
    "# delete last 39 rows, because we want to reshape to 60 length \n",
    "df_for_training_scaled = df_for_training_scaled[:-3, :]\n",
    "df_for_training_scaled.shape"
   ]
  },
  {
   "cell_type": "code",
   "execution_count": 29,
   "metadata": {},
   "outputs": [
    {
     "data": {
      "text/plain": [
       "(123, 172800)"
      ]
     },
     "execution_count": 29,
     "metadata": {},
     "output_type": "execute_result"
    }
   ],
   "source": [
    "# Transpose data before splitting\n",
    "transposed_data = df_for_training_scaled.T\n",
    "transposed_data.shape"
   ]
  },
  {
   "cell_type": "code",
   "execution_count": 30,
   "metadata": {},
   "outputs": [
    {
     "data": {
      "text/plain": [
       "(2880, 123, 60)"
      ]
     },
     "execution_count": 30,
     "metadata": {},
     "output_type": "execute_result"
    }
   ],
   "source": [
    "splitted_data = np.hsplit(transposed_data,2880) #equally 60 length\n",
    "X_train = np.asarray(splitted_data)\n",
    "X_train.shape"
   ]
  },
  {
   "cell_type": "markdown",
   "metadata": {},
   "source": [
    "now create the label train_Y"
   ]
  },
  {
   "cell_type": "code",
   "execution_count": 32,
   "metadata": {},
   "outputs": [
    {
     "data": {
      "text/plain": [
       "(2880, 60)"
      ]
     },
     "execution_count": 32,
     "metadata": {},
     "output_type": "execute_result"
    }
   ],
   "source": [
    "train_label = np.asarray(train_label)\n",
    "train_label = train_label[:-3] #remove last 39 labels\n",
    "splitted_train_label = np.split(train_label,2880) #split to equally 60\n",
    "yarr = np.asarray(splitted_train_label)\n",
    "yarr.shape"
   ]
  },
  {
   "cell_type": "code",
   "execution_count": 33,
   "metadata": {},
   "outputs": [],
   "source": [
    "def linear_search(values, search_for):\n",
    "   search_at = 0\n",
    "   search_res = False\n",
    "# Match the value with each data element\t\n",
    "   while search_at < len(values) and search_res is False:\n",
    "      if values[search_at] == search_for:\n",
    "         search_res = True\n",
    "      else:\n",
    "         search_at = search_at + 1\n",
    "   return search_res"
   ]
  },
  {
   "cell_type": "code",
   "execution_count": 34,
   "metadata": {},
   "outputs": [],
   "source": [
    "Y_train = []\n",
    "for i in range(len(yarr)):\n",
    "    attacked = linear_search(yarr[i], 1) #if we find 1 in 60 label (1 hour), true = attacked, false = normal\n",
    "    Y_train.append(attacked)\n",
    "\n",
    "Y_train = np.array(Y_train).astype('uint8')"
   ]
  },
  {
   "cell_type": "code",
   "execution_count": 35,
   "metadata": {},
   "outputs": [
    {
     "data": {
      "text/plain": [
       "(2880, 1)"
      ]
     },
     "execution_count": 35,
     "metadata": {},
     "output_type": "execute_result"
    }
   ],
   "source": [
    "Y_train = np.reshape(Y_train, (len(Y_train), 1)) #reshape to match the input for cnn\n",
    "Y_train.shape"
   ]
  },
  {
   "cell_type": "code",
   "execution_count": 36,
   "metadata": {},
   "outputs": [],
   "source": [
    "train_X, test_X, train_Y, test_Y = train_test_split(X_train, Y_train, test_size=0.25, random_state=42, shuffle=False)"
   ]
  },
  {
   "cell_type": "code",
   "execution_count": 37,
   "metadata": {},
   "outputs": [
    {
     "name": "stdout",
     "output_type": "stream",
     "text": [
      "train_X shape =  (2160, 123, 60)\n",
      "train_Y shape =  (2160, 1)\n",
      "test_X shape =  (720, 123, 60)\n",
      "test_Y shape =  (720, 1)\n"
     ]
    }
   ],
   "source": [
    "print(\"train_X shape = \", train_X.shape)\n",
    "print(\"train_Y shape = \", train_Y.shape)\n",
    "print(\"test_X shape = \", test_X.shape)\n",
    "print(\"test_Y shape = \", test_Y.shape)"
   ]
  },
  {
   "cell_type": "code",
   "execution_count": 38,
   "metadata": {},
   "outputs": [],
   "source": [
    "# save numpy array as npy file\n",
    "from numpy import save\n",
    "# save to npy file\n",
    "save('X_train.npy', train_X)\n",
    "save('y_train.npy', train_Y)\n",
    "save('X_test.npy', test_X)\n",
    "save('y_test.npy', test_Y)"
   ]
  }
 ],
 "metadata": {
  "kernelspec": {
   "display_name": "Python 3.10.6 64-bit",
   "language": "python",
   "name": "python3"
  },
  "language_info": {
   "codemirror_mode": {
    "name": "ipython",
    "version": 3
   },
   "file_extension": ".py",
   "mimetype": "text/x-python",
   "name": "python",
   "nbconvert_exporter": "python",
   "pygments_lexer": "ipython3",
   "version": "3.10.6"
  },
  "orig_nbformat": 4,
  "vscode": {
   "interpreter": {
    "hash": "ceb4bfb641b0783044b652f84fa4da1e13fe89464d09974bae0ff10892d6a6b5"
   }
  }
 },
 "nbformat": 4,
 "nbformat_minor": 2
}
