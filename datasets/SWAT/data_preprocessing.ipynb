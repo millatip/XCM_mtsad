{
 "cells": [
  {
   "cell_type": "markdown",
   "metadata": {},
   "source": [
    "to do:\n",
    "train_X :\n",
    "- change label to 0/1 (Normal/Attack)\n",
    "- Normalize data\n",
    "- Split to matrix (60 * var_length) = 60 because 1 hour\n",
    "- transpose matrix to (var_lenth * 60)\n",
    "\n",
    "train_Y :\n",
    "- split to matrix @60\n",
    "- if in the matrix there is 1 (attack) make label as 1 \n",
    "\n",
    "Input shape:\n",
    "(49990, 53)\n",
    "Expected output shape:\n",
    "train_X: (7498, 52, 60)\n",
    "train_Y: (7498, 1)"
   ]
  },
  {
   "cell_type": "code",
   "execution_count": 1,
   "metadata": {},
   "outputs": [],
   "source": [
    "import pandas as pd\n",
    "import numpy as np\n",
    "from sklearn.preprocessing import StandardScaler\n",
    "from sklearn.model_selection import train_test_split"
   ]
  },
  {
   "cell_type": "code",
   "execution_count": 3,
   "metadata": {},
   "outputs": [
    {
     "data": {
      "text/plain": [
       "<bound method DataFrame.info of                       Timestamp    FIT101    LIT101   MV101  P101  P102  \\\n",
       "0        28/12/2015 10:00:00 AM  2.427057  522.8467       2     2     1   \n",
       "1        28/12/2015 10:00:01 AM  2.446274  522.8860       2     2     1   \n",
       "2        28/12/2015 10:00:02 AM  2.489191  522.8467       2     2     1   \n",
       "3        28/12/2015 10:00:03 AM  2.534350  522.9645       2     2     1   \n",
       "4        28/12/2015 10:00:04 AM  2.569260  523.4748       2     2     1   \n",
       "...                         ...       ...       ...     ...   ...   ...   \n",
       "449914      2/1/2016 2:59:55 PM  2.559972  519.5495       2     2     1   \n",
       "449915      2/1/2016 2:59:56 PM  2.549082  520.4131       2     2     1   \n",
       "449916      2/1/2016 2:59:57 PM  2.531467  520.6878       2     2     1   \n",
       "449917      2/1/2016 2:59:58 PM  2.521218  520.7271       2     2     1   \n",
       "449918      2/1/2016 2:59:59 PM  2.501681  521.1196       2     2     1   \n",
       "\n",
       "          AIT201    AIT202    AIT203    FIT201  ...  P501  P502    PIT501  \\\n",
       "0       262.0161  8.396437  328.6337  2.445391  ...     2     1  250.8652   \n",
       "1       262.0161  8.396437  328.6337  2.445391  ...     2     1  250.8652   \n",
       "2       262.0161  8.394514  328.6337  2.442316  ...     2     1  250.8812   \n",
       "3       262.0161  8.394514  328.6337  2.442316  ...     2     1  250.8812   \n",
       "4       262.0161  8.394514  328.6337  2.443085  ...     2     1  250.8812   \n",
       "...          ...       ...       ...       ...  ...   ...   ...       ...   \n",
       "449914  168.0979  8.638683  301.9226  2.459488  ...     2     1  251.1535   \n",
       "449915  168.0979  8.638683  301.9226  2.459488  ...     2     1  251.0734   \n",
       "449916  168.0979  8.638683  301.9226  2.460129  ...     2     1  251.0734   \n",
       "449917  168.0979  8.638683  301.9226  2.460129  ...     2     1  251.0734   \n",
       "449918  168.0979  8.638683  301.9226  2.458206  ...     2     1  251.0734   \n",
       "\n",
       "          PIT502    PIT503    FIT601  P601  P602  P603  Normal/Attack  \n",
       "0       1.649953  189.5988  0.000128     1     1     1         Normal  \n",
       "1       1.649953  189.6789  0.000128     1     1     1         Normal  \n",
       "2       1.649953  189.6789  0.000128     1     1     1         Normal  \n",
       "3       1.649953  189.6148  0.000128     1     1     1         Normal  \n",
       "4       1.649953  189.5027  0.000128     1     1     1         Normal  \n",
       "...          ...       ...       ...   ...   ...   ...            ...  \n",
       "449914  0.865024  189.0220  0.000000     1     1     1         Normal  \n",
       "449915  0.865024  188.9259  0.000000     1     1     1         Normal  \n",
       "449916  0.865024  188.9259  0.000000     1     1     1         Normal  \n",
       "449917  0.865024  188.9259  0.000000     1     1     1         Normal  \n",
       "449918  0.865024  188.9259  0.000000     1     1     1         Normal  \n",
       "\n",
       "[449919 rows x 53 columns]>"
      ]
     },
     "execution_count": 3,
     "metadata": {},
     "output_type": "execute_result"
    }
   ],
   "source": [
    "data = pd.read_csv('SWaT_Dataset_Attack_v0_cleaned.csv')\n",
    "# df = data['Timestamp','FIT101','LIT101','MV101','P101','P102','AIT201','AIT202','AIT203','FIT201','MV201','P201','P202','P203','P204','P205','P206','DPIT301','FIT301','LIT301','MV301','MV302','MV303','MV304','P301','P302','AIT401','AIT402','FIT401','LIT401','P401','P402','P403','P404','UV401','AIT501','AIT502','AIT503','AIT504','FIT501','FIT502','FIT503','FIT504','P501','P502','PIT501','PIT502','PIT503','FIT601','P601','P602','P603','Normal/Attack']\n",
    "data.info"
   ]
  },
  {
   "cell_type": "code",
   "execution_count": 4,
   "metadata": {},
   "outputs": [
    {
     "data": {
      "text/html": [
       "<div>\n",
       "<style scoped>\n",
       "    .dataframe tbody tr th:only-of-type {\n",
       "        vertical-align: middle;\n",
       "    }\n",
       "\n",
       "    .dataframe tbody tr th {\n",
       "        vertical-align: top;\n",
       "    }\n",
       "\n",
       "    .dataframe thead th {\n",
       "        text-align: right;\n",
       "    }\n",
       "</style>\n",
       "<table border=\"1\" class=\"dataframe\">\n",
       "  <thead>\n",
       "    <tr style=\"text-align: right;\">\n",
       "      <th></th>\n",
       "      <th>Timestamp</th>\n",
       "      <th>FIT101</th>\n",
       "      <th>LIT101</th>\n",
       "      <th>MV101</th>\n",
       "      <th>P101</th>\n",
       "      <th>P102</th>\n",
       "      <th>AIT201</th>\n",
       "      <th>AIT202</th>\n",
       "      <th>AIT203</th>\n",
       "      <th>FIT201</th>\n",
       "      <th>...</th>\n",
       "      <th>P501</th>\n",
       "      <th>P502</th>\n",
       "      <th>PIT501</th>\n",
       "      <th>PIT502</th>\n",
       "      <th>PIT503</th>\n",
       "      <th>FIT601</th>\n",
       "      <th>P601</th>\n",
       "      <th>P602</th>\n",
       "      <th>P603</th>\n",
       "      <th>Normal/Attack</th>\n",
       "    </tr>\n",
       "  </thead>\n",
       "  <tbody>\n",
       "    <tr>\n",
       "      <th>0</th>\n",
       "      <td>28/12/2015 10:00:00 AM</td>\n",
       "      <td>2.427057</td>\n",
       "      <td>522.8467</td>\n",
       "      <td>2</td>\n",
       "      <td>2</td>\n",
       "      <td>1</td>\n",
       "      <td>262.0161</td>\n",
       "      <td>8.396437</td>\n",
       "      <td>328.6337</td>\n",
       "      <td>2.445391</td>\n",
       "      <td>...</td>\n",
       "      <td>2</td>\n",
       "      <td>1</td>\n",
       "      <td>250.8652</td>\n",
       "      <td>1.649953</td>\n",
       "      <td>189.5988</td>\n",
       "      <td>0.000128</td>\n",
       "      <td>1</td>\n",
       "      <td>1</td>\n",
       "      <td>1</td>\n",
       "      <td>Normal</td>\n",
       "    </tr>\n",
       "    <tr>\n",
       "      <th>1</th>\n",
       "      <td>28/12/2015 10:00:01 AM</td>\n",
       "      <td>2.446274</td>\n",
       "      <td>522.8860</td>\n",
       "      <td>2</td>\n",
       "      <td>2</td>\n",
       "      <td>1</td>\n",
       "      <td>262.0161</td>\n",
       "      <td>8.396437</td>\n",
       "      <td>328.6337</td>\n",
       "      <td>2.445391</td>\n",
       "      <td>...</td>\n",
       "      <td>2</td>\n",
       "      <td>1</td>\n",
       "      <td>250.8652</td>\n",
       "      <td>1.649953</td>\n",
       "      <td>189.6789</td>\n",
       "      <td>0.000128</td>\n",
       "      <td>1</td>\n",
       "      <td>1</td>\n",
       "      <td>1</td>\n",
       "      <td>Normal</td>\n",
       "    </tr>\n",
       "    <tr>\n",
       "      <th>2</th>\n",
       "      <td>28/12/2015 10:00:02 AM</td>\n",
       "      <td>2.489191</td>\n",
       "      <td>522.8467</td>\n",
       "      <td>2</td>\n",
       "      <td>2</td>\n",
       "      <td>1</td>\n",
       "      <td>262.0161</td>\n",
       "      <td>8.394514</td>\n",
       "      <td>328.6337</td>\n",
       "      <td>2.442316</td>\n",
       "      <td>...</td>\n",
       "      <td>2</td>\n",
       "      <td>1</td>\n",
       "      <td>250.8812</td>\n",
       "      <td>1.649953</td>\n",
       "      <td>189.6789</td>\n",
       "      <td>0.000128</td>\n",
       "      <td>1</td>\n",
       "      <td>1</td>\n",
       "      <td>1</td>\n",
       "      <td>Normal</td>\n",
       "    </tr>\n",
       "    <tr>\n",
       "      <th>3</th>\n",
       "      <td>28/12/2015 10:00:03 AM</td>\n",
       "      <td>2.534350</td>\n",
       "      <td>522.9645</td>\n",
       "      <td>2</td>\n",
       "      <td>2</td>\n",
       "      <td>1</td>\n",
       "      <td>262.0161</td>\n",
       "      <td>8.394514</td>\n",
       "      <td>328.6337</td>\n",
       "      <td>2.442316</td>\n",
       "      <td>...</td>\n",
       "      <td>2</td>\n",
       "      <td>1</td>\n",
       "      <td>250.8812</td>\n",
       "      <td>1.649953</td>\n",
       "      <td>189.6148</td>\n",
       "      <td>0.000128</td>\n",
       "      <td>1</td>\n",
       "      <td>1</td>\n",
       "      <td>1</td>\n",
       "      <td>Normal</td>\n",
       "    </tr>\n",
       "    <tr>\n",
       "      <th>4</th>\n",
       "      <td>28/12/2015 10:00:04 AM</td>\n",
       "      <td>2.569260</td>\n",
       "      <td>523.4748</td>\n",
       "      <td>2</td>\n",
       "      <td>2</td>\n",
       "      <td>1</td>\n",
       "      <td>262.0161</td>\n",
       "      <td>8.394514</td>\n",
       "      <td>328.6337</td>\n",
       "      <td>2.443085</td>\n",
       "      <td>...</td>\n",
       "      <td>2</td>\n",
       "      <td>1</td>\n",
       "      <td>250.8812</td>\n",
       "      <td>1.649953</td>\n",
       "      <td>189.5027</td>\n",
       "      <td>0.000128</td>\n",
       "      <td>1</td>\n",
       "      <td>1</td>\n",
       "      <td>1</td>\n",
       "      <td>Normal</td>\n",
       "    </tr>\n",
       "  </tbody>\n",
       "</table>\n",
       "<p>5 rows × 53 columns</p>\n",
       "</div>"
      ],
      "text/plain": [
       "                 Timestamp    FIT101    LIT101   MV101  P101  P102    AIT201  \\\n",
       "0   28/12/2015 10:00:00 AM  2.427057  522.8467       2     2     1  262.0161   \n",
       "1   28/12/2015 10:00:01 AM  2.446274  522.8860       2     2     1  262.0161   \n",
       "2   28/12/2015 10:00:02 AM  2.489191  522.8467       2     2     1  262.0161   \n",
       "3   28/12/2015 10:00:03 AM  2.534350  522.9645       2     2     1  262.0161   \n",
       "4   28/12/2015 10:00:04 AM  2.569260  523.4748       2     2     1  262.0161   \n",
       "\n",
       "     AIT202    AIT203    FIT201  ...  P501  P502    PIT501    PIT502  \\\n",
       "0  8.396437  328.6337  2.445391  ...     2     1  250.8652  1.649953   \n",
       "1  8.396437  328.6337  2.445391  ...     2     1  250.8652  1.649953   \n",
       "2  8.394514  328.6337  2.442316  ...     2     1  250.8812  1.649953   \n",
       "3  8.394514  328.6337  2.442316  ...     2     1  250.8812  1.649953   \n",
       "4  8.394514  328.6337  2.443085  ...     2     1  250.8812  1.649953   \n",
       "\n",
       "     PIT503    FIT601  P601  P602  P603  Normal/Attack  \n",
       "0  189.5988  0.000128     1     1     1         Normal  \n",
       "1  189.6789  0.000128     1     1     1         Normal  \n",
       "2  189.6789  0.000128     1     1     1         Normal  \n",
       "3  189.6148  0.000128     1     1     1         Normal  \n",
       "4  189.5027  0.000128     1     1     1         Normal  \n",
       "\n",
       "[5 rows x 53 columns]"
      ]
     },
     "execution_count": 4,
     "metadata": {},
     "output_type": "execute_result"
    }
   ],
   "source": [
    "data.head()"
   ]
  },
  {
   "cell_type": "markdown",
   "metadata": {},
   "source": [
    "- change label to 0/1 (Normal/Attack)"
   ]
  },
  {
   "cell_type": "code",
   "execution_count": 5,
   "metadata": {},
   "outputs": [
    {
     "data": {
      "text/plain": [
       "array([0, 1], dtype=uint16)"
      ]
     },
     "execution_count": 5,
     "metadata": {},
     "output_type": "execute_result"
    }
   ],
   "source": [
    "data['label'] = pd.factorize(data['Normal/Attack'])[0].astype(np.uint16)\n",
    "data['label'].unique()"
   ]
  },
  {
   "cell_type": "markdown",
   "metadata": {},
   "source": [
    "- change timestamp to datetime format"
   ]
  },
  {
   "cell_type": "code",
   "execution_count": 6,
   "metadata": {},
   "outputs": [],
   "source": [
    "# separate the date\n",
    "train_dates = pd.to_datetime(data[' Timestamp'])"
   ]
  },
  {
   "cell_type": "code",
   "execution_count": 7,
   "metadata": {},
   "outputs": [
    {
     "data": {
      "text/plain": [
       "(449919, 51)"
      ]
     },
     "execution_count": 7,
     "metadata": {},
     "output_type": "execute_result"
    }
   ],
   "source": [
    "# separate the label\n",
    "train_label = data['label']\n",
    "#drop timestamp, label, and ex label column\n",
    "data = data.drop(['Normal/Attack', ' Timestamp', 'label'], axis=1)\n",
    "# change type to float\n",
    "data = data.astype(float, errors = 'raise')\n",
    "data.shape"
   ]
  },
  {
   "cell_type": "code",
   "execution_count": 8,
   "metadata": {},
   "outputs": [],
   "source": [
    "# normalize the data\n",
    "scaler = StandardScaler()\n",
    "scaler = scaler.fit(data)\n",
    "df_for_training_scaled = scaler.transform(data)"
   ]
  },
  {
   "cell_type": "code",
   "execution_count": 9,
   "metadata": {},
   "outputs": [
    {
     "data": {
      "text/plain": [
       "(449880, 51)"
      ]
     },
     "execution_count": 9,
     "metadata": {},
     "output_type": "execute_result"
    }
   ],
   "source": [
    "# delete last 39 rows, because we want to reshape to 60 length \n",
    "df_for_training_scaled = df_for_training_scaled[:-39, :]\n",
    "df_for_training_scaled.shape"
   ]
  },
  {
   "cell_type": "code",
   "execution_count": 10,
   "metadata": {},
   "outputs": [
    {
     "data": {
      "text/plain": [
       "(51, 449880)"
      ]
     },
     "execution_count": 10,
     "metadata": {},
     "output_type": "execute_result"
    }
   ],
   "source": [
    "# Transpose data before splitting\n",
    "transposed_data = df_for_training_scaled.T\n",
    "transposed_data.shape"
   ]
  },
  {
   "cell_type": "code",
   "execution_count": 11,
   "metadata": {},
   "outputs": [
    {
     "data": {
      "text/plain": [
       "(7498, 51, 60)"
      ]
     },
     "execution_count": 11,
     "metadata": {},
     "output_type": "execute_result"
    }
   ],
   "source": [
    "splitted_data = np.hsplit(transposed_data,7498) #equally 60 length\n",
    "X_train = np.asarray(splitted_data)\n",
    "X_train.shape"
   ]
  },
  {
   "cell_type": "markdown",
   "metadata": {},
   "source": [
    "now create the label train_Y"
   ]
  },
  {
   "cell_type": "code",
   "execution_count": 12,
   "metadata": {},
   "outputs": [
    {
     "data": {
      "text/plain": [
       "(7498, 60)"
      ]
     },
     "execution_count": 12,
     "metadata": {},
     "output_type": "execute_result"
    }
   ],
   "source": [
    "train_label = np.asarray(train_label)\n",
    "train_label = train_label[:-39] #remove last 39 labels\n",
    "splitted_train_label = np.split(train_label,7498) #split to equally 60\n",
    "yarr = np.asarray(splitted_train_label)\n",
    "yarr.shape"
   ]
  },
  {
   "cell_type": "code",
   "execution_count": 13,
   "metadata": {},
   "outputs": [],
   "source": [
    "def linear_search(values, search_for):\n",
    "   search_at = 0\n",
    "   search_res = False\n",
    "# Match the value with each data element\t\n",
    "   while search_at < len(values) and search_res is False:\n",
    "      if values[search_at] == search_for:\n",
    "         search_res = True\n",
    "      else:\n",
    "         search_at = search_at + 1\n",
    "   return search_res"
   ]
  },
  {
   "cell_type": "code",
   "execution_count": 14,
   "metadata": {},
   "outputs": [],
   "source": [
    "Y_train = []\n",
    "for i in range(len(yarr)):\n",
    "    attacked = linear_search(yarr[i], 1) #if we find 1 in 60 label (1 hour), true = attacked, false = normal\n",
    "    Y_train.append(attacked)\n",
    "\n",
    "Y_train = np.array(Y_train).astype('uint8')"
   ]
  },
  {
   "cell_type": "code",
   "execution_count": 15,
   "metadata": {},
   "outputs": [
    {
     "data": {
      "text/plain": [
       "(7498, 1)"
      ]
     },
     "execution_count": 15,
     "metadata": {},
     "output_type": "execute_result"
    }
   ],
   "source": [
    "Y_train = np.reshape(Y_train, (len(Y_train), 1)) #reshape to match the input for cnn\n",
    "Y_train.shape"
   ]
  },
  {
   "cell_type": "code",
   "execution_count": 16,
   "metadata": {},
   "outputs": [],
   "source": [
    "train_X, test_X, train_Y, test_Y = train_test_split(X_train, Y_train, test_size=0.25, random_state=42, shuffle=False)"
   ]
  },
  {
   "cell_type": "code",
   "execution_count": 17,
   "metadata": {},
   "outputs": [
    {
     "name": "stdout",
     "output_type": "stream",
     "text": [
      "train_X shape =  (5623, 51, 60)\n",
      "train_Y shape =  (5623, 1)\n",
      "test_X shape =  (1875, 51, 60)\n",
      "test_Y shape =  (1875, 1)\n"
     ]
    }
   ],
   "source": [
    "print(\"train_X shape = \", train_X.shape)\n",
    "print(\"train_Y shape = \", train_Y.shape)\n",
    "print(\"test_X shape = \", test_X.shape)\n",
    "print(\"test_Y shape = \", test_Y.shape)"
   ]
  },
  {
   "cell_type": "code",
   "execution_count": 18,
   "metadata": {},
   "outputs": [],
   "source": [
    "# save numpy array as npy file\n",
    "from numpy import save\n",
    "# save to npy file\n",
    "save('X_train.npy', train_X)\n",
    "save('y_train.npy', train_Y)\n",
    "save('X_test.npy', test_X)\n",
    "save('y_test.npy', test_Y)"
   ]
  }
 ],
 "metadata": {
  "kernelspec": {
   "display_name": "Python 3.10.6 64-bit",
   "language": "python",
   "name": "python3"
  },
  "language_info": {
   "codemirror_mode": {
    "name": "ipython",
    "version": 3
   },
   "file_extension": ".py",
   "mimetype": "text/x-python",
   "name": "python",
   "nbconvert_exporter": "python",
   "pygments_lexer": "ipython3",
   "version": "3.10.6"
  },
  "orig_nbformat": 4,
  "vscode": {
   "interpreter": {
    "hash": "ceb4bfb641b0783044b652f84fa4da1e13fe89464d09974bae0ff10892d6a6b5"
   }
  }
 },
 "nbformat": 4,
 "nbformat_minor": 2
}
