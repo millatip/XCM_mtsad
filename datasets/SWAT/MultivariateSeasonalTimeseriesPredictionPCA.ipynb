{
  "nbformat": 4,
  "nbformat_minor": 0,
  "metadata": {
    "colab": {
      "provenance": []
    },
    "kernelspec": {
      "name": "python3",
      "display_name": "Python 3"
    },
    "accelerator": "GPU"
  },
  "cells": [
    {
      "cell_type": "markdown",
      "metadata": {
        "id": "DVCvfAKvN8dg"
      },
      "source": [
        "Install dependencies"
      ]
    },
    {
      "cell_type": "code",
      "metadata": {
        "id": "zK7UbftdN8d0",
        "outputId": "e63fcbaf-8d7a-4d3a-9da3-0b0986b49ef4",
        "colab": {
          "base_uri": "https://localhost:8080/",
          "height": 280
        }
      },
      "source": [
        "!pip install numpy sklearn pandas matplotlib"
      ],
      "execution_count": null,
      "outputs": [
        {
          "output_type": "stream",
          "text": [
            "Requirement already satisfied: numpy in /usr/local/lib/python3.6/dist-packages (1.16.4)\n",
            "Requirement already satisfied: sklearn in /usr/local/lib/python3.6/dist-packages (0.0)\n",
            "Requirement already satisfied: pandas in /usr/local/lib/python3.6/dist-packages (0.24.2)\n",
            "Requirement already satisfied: matplotlib in /usr/local/lib/python3.6/dist-packages (3.0.3)\n",
            "Requirement already satisfied: scikit-learn in /usr/local/lib/python3.6/dist-packages (from sklearn) (0.21.3)\n",
            "Requirement already satisfied: pytz>=2011k in /usr/local/lib/python3.6/dist-packages (from pandas) (2018.9)\n",
            "Requirement already satisfied: python-dateutil>=2.5.0 in /usr/local/lib/python3.6/dist-packages (from pandas) (2.5.3)\n",
            "Requirement already satisfied: cycler>=0.10 in /usr/local/lib/python3.6/dist-packages (from matplotlib) (0.10.0)\n",
            "Requirement already satisfied: pyparsing!=2.0.4,!=2.1.2,!=2.1.6,>=2.0.1 in /usr/local/lib/python3.6/dist-packages (from matplotlib) (2.4.2)\n",
            "Requirement already satisfied: kiwisolver>=1.0.1 in /usr/local/lib/python3.6/dist-packages (from matplotlib) (1.1.0)\n",
            "Requirement already satisfied: scipy>=0.17.0 in /usr/local/lib/python3.6/dist-packages (from scikit-learn->sklearn) (1.3.0)\n",
            "Requirement already satisfied: joblib>=0.11 in /usr/local/lib/python3.6/dist-packages (from scikit-learn->sklearn) (0.13.2)\n",
            "Requirement already satisfied: six>=1.5 in /usr/local/lib/python3.6/dist-packages (from python-dateutil>=2.5.0->pandas) (1.12.0)\n",
            "Requirement already satisfied: setuptools in /usr/local/lib/python3.6/dist-packages (from kiwisolver>=1.0.1->matplotlib) (41.0.1)\n"
          ],
          "name": "stdout"
        }
      ]
    },
    {
      "cell_type": "markdown",
      "metadata": {
        "id": "tktJjT8TN8eT"
      },
      "source": [
        "Import libraries"
      ]
    },
    {
      "cell_type": "code",
      "metadata": {
        "id": "a6N87O1kN8eY"
      },
      "source": [
        "import matplotlib.pyplot as plt\n",
        "import numpy as np\n",
        "import pandas as pd\n",
        "\n",
        "from datetime import datetime\n",
        "from sklearn.decomposition import PCA\n",
        "from sklearn.svm import SVR"
      ],
      "execution_count": null,
      "outputs": []
    },
    {
      "cell_type": "code",
      "metadata": {
        "id": "yUsrrb_vN8eh"
      },
      "source": [
        "TRAIN_CSV = \"https://raw.githubusercontent.com/ptleskin/MultivariateSeasonalTimeseriesPredictionPCA/master/data/training_set.csv\"\n",
        "TEST_CSV = \"https://raw.githubusercontent.com/ptleskin/MultivariateSeasonalTimeseriesPredictionPCA/master/data/test_set.csv\""
      ],
      "execution_count": null,
      "outputs": []
    },
    {
      "cell_type": "markdown",
      "metadata": {
        "id": "4MutQWT9N8eq"
      },
      "source": [
        "Read training data:"
      ]
    },
    {
      "cell_type": "code",
      "metadata": {
        "id": "PBtQzrY5N8et",
        "outputId": "893dfe65-0c97-466b-f62c-1f26ff6d26f3",
        "colab": {
          "base_uri": "https://localhost:8080/",
          "height": 206
        }
      },
      "source": [
        "n_keys = 11 # number of keywords\n",
        "sources = ['x_{}'.format(i) for i in range(n_keys)]\n",
        "\n",
        "df = pd.read_csv(TRAIN_CSV, sep=';', header=None, names=['ds'] + sources + ['y'])\n",
        "\n",
        "# save the timestamps in ordinal format for later use:\n",
        "t_train = [datetime.strptime(st, '%Y-%m-%d %H:%M:%S').toordinal() for st in df['ds']]\n",
        "\n",
        "df.tail()"
      ],
      "execution_count": null,
      "outputs": [
        {
          "output_type": "execute_result",
          "data": {
            "text/html": [
              "<div>\n",
              "<style scoped>\n",
              "    .dataframe tbody tr th:only-of-type {\n",
              "        vertical-align: middle;\n",
              "    }\n",
              "\n",
              "    .dataframe tbody tr th {\n",
              "        vertical-align: top;\n",
              "    }\n",
              "\n",
              "    .dataframe thead th {\n",
              "        text-align: right;\n",
              "    }\n",
              "</style>\n",
              "<table border=\"1\" class=\"dataframe\">\n",
              "  <thead>\n",
              "    <tr style=\"text-align: right;\">\n",
              "      <th></th>\n",
              "      <th>ds</th>\n",
              "      <th>x_0</th>\n",
              "      <th>x_1</th>\n",
              "      <th>x_2</th>\n",
              "      <th>x_3</th>\n",
              "      <th>x_4</th>\n",
              "      <th>x_5</th>\n",
              "      <th>x_6</th>\n",
              "      <th>x_7</th>\n",
              "      <th>x_8</th>\n",
              "      <th>x_9</th>\n",
              "      <th>x_10</th>\n",
              "      <th>y</th>\n",
              "    </tr>\n",
              "  </thead>\n",
              "  <tbody>\n",
              "    <tr>\n",
              "      <th>277</th>\n",
              "      <td>2014-04-28 00:00:00</td>\n",
              "      <td>8.0</td>\n",
              "      <td>2.0</td>\n",
              "      <td>0.0</td>\n",
              "      <td>1.0</td>\n",
              "      <td>3.0</td>\n",
              "      <td>1.0</td>\n",
              "      <td>1.0</td>\n",
              "      <td>4.0</td>\n",
              "      <td>14.0</td>\n",
              "      <td>3.0</td>\n",
              "      <td>15.0</td>\n",
              "      <td>5</td>\n",
              "    </tr>\n",
              "    <tr>\n",
              "      <th>278</th>\n",
              "      <td>2014-05-05 00:00:00</td>\n",
              "      <td>6.0</td>\n",
              "      <td>0.0</td>\n",
              "      <td>3.0</td>\n",
              "      <td>3.0</td>\n",
              "      <td>17.0</td>\n",
              "      <td>0.0</td>\n",
              "      <td>1.0</td>\n",
              "      <td>4.0</td>\n",
              "      <td>23.0</td>\n",
              "      <td>1.0</td>\n",
              "      <td>6.0</td>\n",
              "      <td>12</td>\n",
              "    </tr>\n",
              "    <tr>\n",
              "      <th>279</th>\n",
              "      <td>2014-05-12 00:00:00</td>\n",
              "      <td>6.0</td>\n",
              "      <td>0.0</td>\n",
              "      <td>5.0</td>\n",
              "      <td>2.0</td>\n",
              "      <td>12.0</td>\n",
              "      <td>0.0</td>\n",
              "      <td>0.0</td>\n",
              "      <td>8.0</td>\n",
              "      <td>32.0</td>\n",
              "      <td>1.0</td>\n",
              "      <td>4.0</td>\n",
              "      <td>11</td>\n",
              "    </tr>\n",
              "    <tr>\n",
              "      <th>280</th>\n",
              "      <td>2014-05-19 00:00:00</td>\n",
              "      <td>4.0</td>\n",
              "      <td>2.0</td>\n",
              "      <td>1.0</td>\n",
              "      <td>3.0</td>\n",
              "      <td>13.0</td>\n",
              "      <td>0.0</td>\n",
              "      <td>0.0</td>\n",
              "      <td>13.0</td>\n",
              "      <td>17.0</td>\n",
              "      <td>2.0</td>\n",
              "      <td>6.0</td>\n",
              "      <td>10</td>\n",
              "    </tr>\n",
              "    <tr>\n",
              "      <th>281</th>\n",
              "      <td>2014-05-26 00:00:00</td>\n",
              "      <td>13.0</td>\n",
              "      <td>2.0</td>\n",
              "      <td>0.0</td>\n",
              "      <td>1.0</td>\n",
              "      <td>5.0</td>\n",
              "      <td>1.0</td>\n",
              "      <td>0.0</td>\n",
              "      <td>5.0</td>\n",
              "      <td>22.0</td>\n",
              "      <td>14.0</td>\n",
              "      <td>2.0</td>\n",
              "      <td>1</td>\n",
              "    </tr>\n",
              "  </tbody>\n",
              "</table>\n",
              "</div>"
            ],
            "text/plain": [
              "                      ds   x_0  x_1  x_2  x_3  ...   x_7   x_8   x_9  x_10   y\n",
              "277  2014-04-28 00:00:00   8.0  2.0  0.0  1.0  ...   4.0  14.0   3.0  15.0   5\n",
              "278  2014-05-05 00:00:00   6.0  0.0  3.0  3.0  ...   4.0  23.0   1.0   6.0  12\n",
              "279  2014-05-12 00:00:00   6.0  0.0  5.0  2.0  ...   8.0  32.0   1.0   4.0  11\n",
              "280  2014-05-19 00:00:00   4.0  2.0  1.0  3.0  ...  13.0  17.0   2.0   6.0  10\n",
              "281  2014-05-26 00:00:00  13.0  2.0  0.0  1.0  ...   5.0  22.0  14.0   2.0   1\n",
              "\n",
              "[5 rows x 13 columns]"
            ]
          },
          "metadata": {
            "tags": []
          },
          "execution_count": 6
        }
      ]
    },
    {
      "cell_type": "markdown",
      "metadata": {
        "id": "WOHpV2TrN8e9"
      },
      "source": [
        "Read test data:"
      ]
    },
    {
      "cell_type": "code",
      "metadata": {
        "id": "GdWbjQs8N8fA",
        "outputId": "f38b052f-3da9-4f38-82f6-be61e1531aa0",
        "colab": {
          "base_uri": "https://localhost:8080/",
          "height": 206
        }
      },
      "source": [
        "df2 = pd.read_csv(TEST_CSV, sep=';', header=None, names = ['ds'] + sources)\n",
        "\n",
        "# save the timestamps in ordinal format for later use:\n",
        "t_test = [datetime.strptime(st, '%Y-%m-%d %H:%M:%S').toordinal() for st in df2['ds']]\n",
        "\n",
        "df2.head()"
      ],
      "execution_count": null,
      "outputs": [
        {
          "output_type": "execute_result",
          "data": {
            "text/html": [
              "<div>\n",
              "<style scoped>\n",
              "    .dataframe tbody tr th:only-of-type {\n",
              "        vertical-align: middle;\n",
              "    }\n",
              "\n",
              "    .dataframe tbody tr th {\n",
              "        vertical-align: top;\n",
              "    }\n",
              "\n",
              "    .dataframe thead th {\n",
              "        text-align: right;\n",
              "    }\n",
              "</style>\n",
              "<table border=\"1\" class=\"dataframe\">\n",
              "  <thead>\n",
              "    <tr style=\"text-align: right;\">\n",
              "      <th></th>\n",
              "      <th>ds</th>\n",
              "      <th>x_0</th>\n",
              "      <th>x_1</th>\n",
              "      <th>x_2</th>\n",
              "      <th>x_3</th>\n",
              "      <th>x_4</th>\n",
              "      <th>x_5</th>\n",
              "      <th>x_6</th>\n",
              "      <th>x_7</th>\n",
              "      <th>x_8</th>\n",
              "      <th>x_9</th>\n",
              "      <th>x_10</th>\n",
              "    </tr>\n",
              "  </thead>\n",
              "  <tbody>\n",
              "    <tr>\n",
              "      <th>0</th>\n",
              "      <td>2014-06-02 00:00:00</td>\n",
              "      <td>9.0</td>\n",
              "      <td>2.0</td>\n",
              "      <td>2.0</td>\n",
              "      <td>0.0</td>\n",
              "      <td>11.0</td>\n",
              "      <td>1.0</td>\n",
              "      <td>0.0</td>\n",
              "      <td>10.0</td>\n",
              "      <td>15.0</td>\n",
              "      <td>6.0</td>\n",
              "      <td>1.0</td>\n",
              "    </tr>\n",
              "    <tr>\n",
              "      <th>1</th>\n",
              "      <td>2014-06-09 00:00:00</td>\n",
              "      <td>10.0</td>\n",
              "      <td>1.0</td>\n",
              "      <td>3.0</td>\n",
              "      <td>4.0</td>\n",
              "      <td>16.0</td>\n",
              "      <td>0.0</td>\n",
              "      <td>0.0</td>\n",
              "      <td>7.0</td>\n",
              "      <td>46.0</td>\n",
              "      <td>2.0</td>\n",
              "      <td>4.0</td>\n",
              "    </tr>\n",
              "    <tr>\n",
              "      <th>2</th>\n",
              "      <td>2014-06-16 00:00:00</td>\n",
              "      <td>6.0</td>\n",
              "      <td>2.0</td>\n",
              "      <td>0.0</td>\n",
              "      <td>1.0</td>\n",
              "      <td>10.0</td>\n",
              "      <td>0.0</td>\n",
              "      <td>0.0</td>\n",
              "      <td>8.0</td>\n",
              "      <td>20.0</td>\n",
              "      <td>1.0</td>\n",
              "      <td>4.0</td>\n",
              "    </tr>\n",
              "    <tr>\n",
              "      <th>3</th>\n",
              "      <td>2014-06-23 00:00:00</td>\n",
              "      <td>28.0</td>\n",
              "      <td>1.0</td>\n",
              "      <td>4.0</td>\n",
              "      <td>2.0</td>\n",
              "      <td>8.0</td>\n",
              "      <td>0.0</td>\n",
              "      <td>0.0</td>\n",
              "      <td>5.0</td>\n",
              "      <td>17.0</td>\n",
              "      <td>9.0</td>\n",
              "      <td>3.0</td>\n",
              "    </tr>\n",
              "    <tr>\n",
              "      <th>4</th>\n",
              "      <td>2014-06-30 00:00:00</td>\n",
              "      <td>8.0</td>\n",
              "      <td>4.0</td>\n",
              "      <td>0.0</td>\n",
              "      <td>1.0</td>\n",
              "      <td>13.0</td>\n",
              "      <td>0.0</td>\n",
              "      <td>0.0</td>\n",
              "      <td>3.0</td>\n",
              "      <td>12.0</td>\n",
              "      <td>5.0</td>\n",
              "      <td>7.0</td>\n",
              "    </tr>\n",
              "  </tbody>\n",
              "</table>\n",
              "</div>"
            ],
            "text/plain": [
              "                    ds   x_0  x_1  x_2  x_3  ...  x_6   x_7   x_8  x_9  x_10\n",
              "0  2014-06-02 00:00:00   9.0  2.0  2.0  0.0  ...  0.0  10.0  15.0  6.0   1.0\n",
              "1  2014-06-09 00:00:00  10.0  1.0  3.0  4.0  ...  0.0   7.0  46.0  2.0   4.0\n",
              "2  2014-06-16 00:00:00   6.0  2.0  0.0  1.0  ...  0.0   8.0  20.0  1.0   4.0\n",
              "3  2014-06-23 00:00:00  28.0  1.0  4.0  2.0  ...  0.0   5.0  17.0  9.0   3.0\n",
              "4  2014-06-30 00:00:00   8.0  4.0  0.0  1.0  ...  0.0   3.0  12.0  5.0   7.0\n",
              "\n",
              "[5 rows x 12 columns]"
            ]
          },
          "metadata": {
            "tags": []
          },
          "execution_count": 11
        }
      ]
    },
    {
      "cell_type": "markdown",
      "metadata": {
        "id": "YZfEyvNIN8fQ"
      },
      "source": [
        "Notice that time stamps of the training data continue in the test data.\n",
        "\n",
        "Study the data by plotting it:"
      ]
    },
    {
      "cell_type": "code",
      "metadata": {
        "id": "3PBqjV2pN8gS",
        "outputId": "b9bfc0c5-0a6c-447e-d533-e3b63a2a2dd6",
        "colab": {
          "base_uri": "https://localhost:8080/",
          "height": 269
        }
      },
      "source": [
        "fig, ax = plt.subplots()\n",
        "ax.plot(df['y'].values)\n",
        "ax.grid()\n",
        "plt.show()"
      ],
      "execution_count": null,
      "outputs": [
        {
          "output_type": "display_data",
          "data": {
            "image/png": "[encoded data removed]",
            "text/plain": [
              "<Figure size 432x288 with 1 Axes>"
            ]
          },
          "metadata": {
            "tags": []
          }
        }
      ]
    },
    {
      "cell_type": "markdown",
      "metadata": {
        "id": "c4KZaAZoN8gy"
      },
      "source": [
        "So we are dealing with a relatively small data set with periodical behaviour."
      ]
    },
    {
      "cell_type": "markdown",
      "metadata": {
        "id": "Nf2CMFuaN8g4"
      },
      "source": [
        "Now plot the keyword counts:"
      ]
    },
    {
      "cell_type": "code",
      "metadata": {
        "id": "Hapd8o6WN8g8",
        "outputId": "4e886d81-76e0-4fab-a314-c63f007ce82f",
        "colab": {
          "base_uri": "https://localhost:8080/",
          "height": 269
        }
      },
      "source": [
        "fig, ax = plt.subplots(len(sources), 1, sharex='col', sharey='row')\n",
        "\n",
        "for i,s in enumerate(sources):\n",
        "    ax[i].plot(df[s].values)\n",
        "\n",
        "plt.show()"
      ],
      "execution_count": null,
      "outputs": [
        {
          "output_type": "display_data",
          "data": {
            "image/png": "[encoded data removed]",
            "text/plain": [
              "<Figure size 432x288 with 11 Axes>"
            ]
          },
          "metadata": {
            "tags": []
          }
        }
      ]
    },
    {
      "cell_type": "markdown",
      "metadata": {
        "id": "Y1fgfCk8N8hG"
      },
      "source": [
        "Let's take a look at the correlation coefficients, to see how much mutual information there is in the keyword data:"
      ]
    },
    {
      "cell_type": "code",
      "metadata": {
        "id": "b_PXk_U0N8hJ",
        "outputId": "0690503c-2bfb-44d7-8927-377f3fa5bb79",
        "colab": {
          "base_uri": "https://localhost:8080/",
          "height": 394
        }
      },
      "source": [
        "pd.DataFrame(data = np.corrcoef(df[sources].values, rowvar = False))"
      ],
      "execution_count": null,
      "outputs": [
        {
          "output_type": "execute_result",
          "data": {
            "text/html": [
              "<div>\n",
              "<style scoped>\n",
              "    .dataframe tbody tr th:only-of-type {\n",
              "        vertical-align: middle;\n",
              "    }\n",
              "\n",
              "    .dataframe tbody tr th {\n",
              "        vertical-align: top;\n",
              "    }\n",
              "\n",
              "    .dataframe thead th {\n",
              "        text-align: right;\n",
              "    }\n",
              "</style>\n",
              "<table border=\"1\" class=\"dataframe\">\n",
              "  <thead>\n",
              "    <tr style=\"text-align: right;\">\n",
              "      <th></th>\n",
              "      <th>0</th>\n",
              "      <th>1</th>\n",
              "      <th>2</th>\n",
              "      <th>3</th>\n",
              "      <th>4</th>\n",
              "      <th>5</th>\n",
              "      <th>6</th>\n",
              "      <th>7</th>\n",
              "      <th>8</th>\n",
              "      <th>9</th>\n",
              "      <th>10</th>\n",
              "    </tr>\n",
              "  </thead>\n",
              "  <tbody>\n",
              "    <tr>\n",
              "      <th>0</th>\n",
              "      <td>1.000000</td>\n",
              "      <td>0.165659</td>\n",
              "      <td>0.240735</td>\n",
              "      <td>0.261566</td>\n",
              "      <td>0.323946</td>\n",
              "      <td>0.148247</td>\n",
              "      <td>0.109507</td>\n",
              "      <td>0.406442</td>\n",
              "      <td>0.430403</td>\n",
              "      <td>0.247847</td>\n",
              "      <td>0.318768</td>\n",
              "    </tr>\n",
              "    <tr>\n",
              "      <th>1</th>\n",
              "      <td>0.165659</td>\n",
              "      <td>1.000000</td>\n",
              "      <td>0.188686</td>\n",
              "      <td>0.126909</td>\n",
              "      <td>0.234532</td>\n",
              "      <td>0.170091</td>\n",
              "      <td>0.104815</td>\n",
              "      <td>0.212833</td>\n",
              "      <td>0.240584</td>\n",
              "      <td>0.207836</td>\n",
              "      <td>0.227255</td>\n",
              "    </tr>\n",
              "    <tr>\n",
              "      <th>2</th>\n",
              "      <td>0.240735</td>\n",
              "      <td>0.188686</td>\n",
              "      <td>1.000000</td>\n",
              "      <td>0.638754</td>\n",
              "      <td>0.870728</td>\n",
              "      <td>0.381759</td>\n",
              "      <td>0.282963</td>\n",
              "      <td>0.603716</td>\n",
              "      <td>0.469311</td>\n",
              "      <td>0.893345</td>\n",
              "      <td>0.795883</td>\n",
              "    </tr>\n",
              "    <tr>\n",
              "      <th>3</th>\n",
              "      <td>0.261566</td>\n",
              "      <td>0.126909</td>\n",
              "      <td>0.638754</td>\n",
              "      <td>1.000000</td>\n",
              "      <td>0.665850</td>\n",
              "      <td>0.362167</td>\n",
              "      <td>0.251680</td>\n",
              "      <td>0.631225</td>\n",
              "      <td>0.525285</td>\n",
              "      <td>0.503034</td>\n",
              "      <td>0.656606</td>\n",
              "    </tr>\n",
              "    <tr>\n",
              "      <th>4</th>\n",
              "      <td>0.323946</td>\n",
              "      <td>0.234532</td>\n",
              "      <td>0.870728</td>\n",
              "      <td>0.665850</td>\n",
              "      <td>1.000000</td>\n",
              "      <td>0.479626</td>\n",
              "      <td>0.242197</td>\n",
              "      <td>0.730889</td>\n",
              "      <td>0.603969</td>\n",
              "      <td>0.813183</td>\n",
              "      <td>0.868653</td>\n",
              "    </tr>\n",
              "    <tr>\n",
              "      <th>5</th>\n",
              "      <td>0.148247</td>\n",
              "      <td>0.170091</td>\n",
              "      <td>0.381759</td>\n",
              "      <td>0.362167</td>\n",
              "      <td>0.479626</td>\n",
              "      <td>1.000000</td>\n",
              "      <td>0.257780</td>\n",
              "      <td>0.330405</td>\n",
              "      <td>0.284482</td>\n",
              "      <td>0.328191</td>\n",
              "      <td>0.402064</td>\n",
              "    </tr>\n",
              "    <tr>\n",
              "      <th>6</th>\n",
              "      <td>0.109507</td>\n",
              "      <td>0.104815</td>\n",
              "      <td>0.282963</td>\n",
              "      <td>0.251680</td>\n",
              "      <td>0.242197</td>\n",
              "      <td>0.257780</td>\n",
              "      <td>1.000000</td>\n",
              "      <td>0.279513</td>\n",
              "      <td>0.130701</td>\n",
              "      <td>0.244170</td>\n",
              "      <td>0.214234</td>\n",
              "    </tr>\n",
              "    <tr>\n",
              "      <th>7</th>\n",
              "      <td>0.406442</td>\n",
              "      <td>0.212833</td>\n",
              "      <td>0.603716</td>\n",
              "      <td>0.631225</td>\n",
              "      <td>0.730889</td>\n",
              "      <td>0.330405</td>\n",
              "      <td>0.279513</td>\n",
              "      <td>1.000000</td>\n",
              "      <td>0.677847</td>\n",
              "      <td>0.508777</td>\n",
              "      <td>0.716370</td>\n",
              "    </tr>\n",
              "    <tr>\n",
              "      <th>8</th>\n",
              "      <td>0.430403</td>\n",
              "      <td>0.240584</td>\n",
              "      <td>0.469311</td>\n",
              "      <td>0.525285</td>\n",
              "      <td>0.603969</td>\n",
              "      <td>0.284482</td>\n",
              "      <td>0.130701</td>\n",
              "      <td>0.677847</td>\n",
              "      <td>1.000000</td>\n",
              "      <td>0.429498</td>\n",
              "      <td>0.612721</td>\n",
              "    </tr>\n",
              "    <tr>\n",
              "      <th>9</th>\n",
              "      <td>0.247847</td>\n",
              "      <td>0.207836</td>\n",
              "      <td>0.893345</td>\n",
              "      <td>0.503034</td>\n",
              "      <td>0.813183</td>\n",
              "      <td>0.328191</td>\n",
              "      <td>0.244170</td>\n",
              "      <td>0.508777</td>\n",
              "      <td>0.429498</td>\n",
              "      <td>1.000000</td>\n",
              "      <td>0.731535</td>\n",
              "    </tr>\n",
              "    <tr>\n",
              "      <th>10</th>\n",
              "      <td>0.318768</td>\n",
              "      <td>0.227255</td>\n",
              "      <td>0.795883</td>\n",
              "      <td>0.656606</td>\n",
              "      <td>0.868653</td>\n",
              "      <td>0.402064</td>\n",
              "      <td>0.214234</td>\n",
              "      <td>0.716370</td>\n",
              "      <td>0.612721</td>\n",
              "      <td>0.731535</td>\n",
              "      <td>1.000000</td>\n",
              "    </tr>\n",
              "  </tbody>\n",
              "</table>\n",
              "</div>"
            ],
            "text/plain": [
              "          0         1         2   ...        8         9         10\n",
              "0   1.000000  0.165659  0.240735  ...  0.430403  0.247847  0.318768\n",
              "1   0.165659  1.000000  0.188686  ...  0.240584  0.207836  0.227255\n",
              "2   0.240735  0.188686  1.000000  ...  0.469311  0.893345  0.795883\n",
              "3   0.261566  0.126909  0.638754  ...  0.525285  0.503034  0.656606\n",
              "4   0.323946  0.234532  0.870728  ...  0.603969  0.813183  0.868653\n",
              "5   0.148247  0.170091  0.381759  ...  0.284482  0.328191  0.402064\n",
              "6   0.109507  0.104815  0.282963  ...  0.130701  0.244170  0.214234\n",
              "7   0.406442  0.212833  0.603716  ...  0.677847  0.508777  0.716370\n",
              "8   0.430403  0.240584  0.469311  ...  1.000000  0.429498  0.612721\n",
              "9   0.247847  0.207836  0.893345  ...  0.429498  1.000000  0.731535\n",
              "10  0.318768  0.227255  0.795883  ...  0.612721  0.731535  1.000000\n",
              "\n",
              "[11 rows x 11 columns]"
            ]
          },
          "metadata": {
            "tags": []
          },
          "execution_count": 12
        }
      ]
    },
    {
      "cell_type": "markdown",
      "metadata": {
        "id": "W7phoZI1N8hS"
      },
      "source": [
        "There are many off-diagonal values in range 0.5 to 1.0, so the columns in the data are strongly correlated.\n",
        "\n",
        "Next we will apply dimensionality reduction with PCA:"
      ]
    },
    {
      "cell_type": "code",
      "metadata": {
        "id": "vb5kYG1IN8hT",
        "outputId": "21c67479-fd07-45d6-8ac6-49e01f83f1d8",
        "colab": {
          "base_uri": "https://localhost:8080/",
          "height": 286
        }
      },
      "source": [
        "n_components = 3\n",
        "pca = PCA(n_components=n_components)\n",
        "pca.fit(df[sources].values)\n",
        "\n",
        "X3 = pca.transform(df[sources].values)\n",
        "X3_test = pca.transform(df2[sources].values)\n",
        "\n",
        "fig, axs = plt.subplots(n_components, 1, sharex='col', sharey='row')\n",
        "\n",
        "pca_sources = ['p_{}'.format(i) for i in range(n_components)]\n",
        "\n",
        "if n_components==1:\n",
        "    axs.plot(X3[:,0])\n",
        "    df[pca_sources[0]] = X3[:,0]\n",
        "    df2[pca_sources[0]] = X3_test[:,0]\n",
        "else:\n",
        "    for i,ax in enumerate(axs):\n",
        "        ax.plot(X3[:,i])\n",
        "        df[pca_sources[i]] = X3[:,i]\n",
        "        df2[pca_sources[i]] = X3_test[:,i]\n",
        "\n",
        "plt.show()\n",
        "\n",
        "np.set_printoptions(precision=2)\n",
        "(pca.explained_variance_ratio_, np.sum(pca.explained_variance_ratio_))"
      ],
      "execution_count": null,
      "outputs": [
        {
          "output_type": "display_data",
          "data": {
            "image/png": "[encoded data removed]",
            "text/plain": [
              "<Figure size 432x288 with 3 Axes>"
            ]
          },
          "metadata": {
            "tags": []
          }
        },
        {
          "output_type": "execute_result",
          "data": {
            "text/plain": [
              "(array([0.86, 0.07, 0.03]), 0.947278311828126)"
            ]
          },
          "metadata": {
            "tags": []
          },
          "execution_count": 13
        }
      ]
    },
    {
      "cell_type": "markdown",
      "metadata": {
        "id": "mq_637M1N8hh"
      },
      "source": [
        "The first PCA component explain 86 per cent of the data, and would produce a feasible result when used in combination with the disease count data. However we will choose the three first components with 95 per cent value.\n",
        "\n",
        "Due to the small data size we chose to use a Support Vector Machine, and predict the next y-value by a longer sequence of earlier samples.\n",
        "\n",
        "In addition to the x[0], x[1], ... x[10] values, we will also use y[n-1], y[n-2], ... the predict next y[n].\n",
        "\n",
        "Initialize a Support Vector Machine for regression:"
      ]
    },
    {
      "cell_type": "code",
      "metadata": {
        "id": "zIhWl2vMN8hi"
      },
      "source": [
        "clf = SVR(kernel='linear')"
      ],
      "execution_count": null,
      "outputs": []
    },
    {
      "cell_type": "code",
      "metadata": {
        "id": "7y4wMSTEN8hr"
      },
      "source": [
        "n_timesteps = 125 # number of time steps\n",
        "\n",
        "X, y = [], [] \n",
        "\n",
        "data = df[pca_sources+['y']].values\n",
        "\n",
        "for i in range(df.shape[0]-n_timesteps+1):\n",
        "    D = data[i:i+n_timesteps,:].flatten() # collect n_timesteps number of rows, and convert into 1D array\n",
        "    X.append(D[:-1]) # collect keyword counts into X, leave out the last number = y-value\n",
        "    y.append(D[-1])  # and disease counts into y"
      ],
      "execution_count": null,
      "outputs": []
    },
    {
      "cell_type": "markdown",
      "metadata": {
        "id": "yCV2Bff9N8h1"
      },
      "source": [
        "Fit the SVR:"
      ]
    },
    {
      "cell_type": "code",
      "metadata": {
        "id": "QLbuyN4qN8h3",
        "outputId": "46fa3f81-5625-4e89-a41e-66b4decd9085",
        "colab": {
          "base_uri": "https://localhost:8080/",
          "height": 69
        }
      },
      "source": [
        "clf.fit(X, y)"
      ],
      "execution_count": null,
      "outputs": [
        {
          "output_type": "execute_result",
          "data": {
            "text/plain": [
              "SVR(C=1.0, cache_size=200, coef0=0.0, degree=3, epsilon=0.1,\n",
              "    gamma='auto_deprecated', kernel='linear', max_iter=-1, shrinking=True,\n",
              "    tol=0.001, verbose=False)"
            ]
          },
          "metadata": {
            "tags": []
          },
          "execution_count": 16
        }
      ]
    },
    {
      "cell_type": "markdown",
      "metadata": {
        "id": "x_fDXopJN8iH"
      },
      "source": [
        "Use the last y-value from the training data as a prior for future y-values:"
      ]
    },
    {
      "cell_type": "code",
      "metadata": {
        "id": "wxuKZVCMN8iK"
      },
      "source": [
        "df2['y'] = y[-1]"
      ],
      "execution_count": null,
      "outputs": []
    },
    {
      "cell_type": "markdown",
      "metadata": {
        "id": "fTt4-TYKN8iT"
      },
      "source": [
        "Convert the data matrix into a format suitable for the regressor:"
      ]
    },
    {
      "cell_type": "code",
      "metadata": {
        "id": "PhtO0EJFN8iX"
      },
      "source": [
        "dataX = np.concatenate((data[1-n_timesteps:], df2[pca_sources + ['y']].values), axis=0)\n",
        "\n",
        "X2 = []\n",
        "for i in range(len(dataX)-n_timesteps+1):\n",
        "    D = dataX[i:i+n_timesteps,:].flatten()\n",
        "    X2.append(D[:-1])"
      ],
      "execution_count": null,
      "outputs": []
    },
    {
      "cell_type": "markdown",
      "metadata": {
        "id": "T3vpzQmDN8ig"
      },
      "source": [
        "Predict the first estimate converted into non-negative integers:"
      ]
    },
    {
      "cell_type": "code",
      "metadata": {
        "id": "h9BcxM0mN8ij",
        "outputId": "fc2e81fb-9900-494b-8013-cc07d2f1e5b0",
        "colab": {
          "base_uri": "https://localhost:8080/",
          "height": 86
        }
      },
      "source": [
        "pred_0 = clf.predict(X2).astype('int')\n",
        "pred_0[pred_0<0] = 0\n",
        "pred_0"
      ],
      "execution_count": null,
      "outputs": [
        {
          "output_type": "execute_result",
          "data": {
            "text/plain": [
              "array([ 0,  6,  3,  1,  0,  0,  5,  3,  4,  3,  6, 11, 16,  8,  7,  9,  3,\n",
              "        2,  1,  2,  1,  7,  7,  3,  5,  9,  6, 11, 13, 11,  7,  7, 10, 21,\n",
              "       27, 49, 65, 77, 72, 65, 56, 32, 25,  6,  5,  1, 10, 11,  8,  5,  4,\n",
              "       11])"
            ]
          },
          "metadata": {
            "tags": []
          },
          "execution_count": 19
        }
      ]
    },
    {
      "cell_type": "markdown",
      "metadata": {
        "id": "BbK0xVSWN8i0"
      },
      "source": [
        "Update the y-prior with the first prediction:"
      ]
    },
    {
      "cell_type": "code",
      "metadata": {
        "id": "onZIcsyJN8i3"
      },
      "source": [
        "df2['y'] = pred_0"
      ],
      "execution_count": null,
      "outputs": []
    },
    {
      "cell_type": "markdown",
      "metadata": {
        "id": "H9z92afoN8i7"
      },
      "source": [
        "Make the second prediction:"
      ]
    },
    {
      "cell_type": "code",
      "metadata": {
        "id": "9JqSVb5JN8i-"
      },
      "source": [
        "dataX = np.concatenate((data[1-n_timesteps:], df2[pca_sources + ['y']].values), axis=0)\n",
        "\n",
        "X2 = []\n",
        "for i in range(len(dataX)-n_timesteps+1):\n",
        "    D = dataX[i:i+n_timesteps,:].flatten()\n",
        "    X2.append(D[:-1])\n",
        "\n",
        "predictions = clf.predict(X2).astype('int')\n",
        "\n",
        "predictions[predictions<0] = 0"
      ],
      "execution_count": null,
      "outputs": []
    },
    {
      "cell_type": "markdown",
      "metadata": {
        "id": "4W4VhXP0N8jC"
      },
      "source": [
        "Plot the data for visual evaluation:"
      ]
    },
    {
      "cell_type": "code",
      "metadata": {
        "id": "SJcE3zh1N8jF",
        "outputId": "30a9af31-4afc-418e-ac62-3551f019dcb8",
        "colab": {
          "base_uri": "https://localhost:8080/",
          "height": 273
        }
      },
      "source": [
        "fig, ax = plt.subplots()\n",
        "\n",
        "ax.plot(t_train, df['y'].values)\n",
        "ax.plot(t_test, predictions)\n",
        "\n",
        "ax.set_xticklabels([])\n",
        "ax.grid()\n",
        "ax.legend(['Existing data', 'Predicted'])\n",
        "plt.xlabel('Time series and prediction')\n",
        "plt.show()"
      ],
      "execution_count": null,
      "outputs": [
        {
          "output_type": "display_data",
          "data": {
            "image/png": "[encoded data removed]",
            "text/plain": [
              "<Figure size 432x288 with 1 Axes>"
            ]
          },
          "metadata": {
            "tags": []
          }
        }
      ]
    },
    {
      "cell_type": "markdown",
      "metadata": {
        "id": "d-V8Oa7rScNx"
      },
      "source": [
        "To have a closer look we will plot the last 50 values of the training data and the predicted sequence:"
      ]
    },
    {
      "cell_type": "code",
      "metadata": {
        "id": "ykfAqyn4Q0GV",
        "outputId": "458f934d-6588-49c5-c40b-0ea1df6f7fba",
        "colab": {
          "base_uri": "https://localhost:8080/",
          "height": 273
        }
      },
      "source": [
        "fig, ax = plt.subplots()\n",
        "\n",
        "ax.plot(t_train[-50:], df['y'].values[-50:])\n",
        "ax.plot(t_test, predictions)\n",
        "\n",
        "ax.set_xticklabels([])\n",
        "ax.grid()\n",
        "ax.legend(['Existing data', 'Predicted'])\n",
        "plt.xlabel('A closer look at time series and prediction')\n",
        "plt.show()"
      ],
      "execution_count": null,
      "outputs": [
        {
          "output_type": "display_data",
          "data": {
            "image/png": "[encoded data removed]",
            "text/plain": [
              "<Figure size 432x288 with 1 Axes>"
            ]
          },
          "metadata": {
            "tags": []
          }
        }
      ]
    },
    {
      "cell_type": "markdown",
      "metadata": {
        "id": "gdo9VU21N8jY"
      },
      "source": [
        "predictions"
      ]
    },
    {
      "cell_type": "code",
      "metadata": {
        "id": "flC5R2FCN8ja",
        "outputId": "71f073bf-9ac2-4cfc-f62e-54b17380afbc",
        "colab": {
          "base_uri": "https://localhost:8080/",
          "height": 86
        }
      },
      "source": [
        "predictions"
      ],
      "execution_count": null,
      "outputs": [
        {
          "output_type": "execute_result",
          "data": {
            "text/plain": [
              "array([ 0,  6,  3,  2,  0,  0,  5,  3,  5,  3,  6, 11, 17,  9,  7,  9,  3,\n",
              "        3,  1,  3,  1,  6,  8,  4,  5,  8,  6, 10, 13, 12,  7,  6,  9, 21,\n",
              "       27, 50, 67, 82, 77, 69, 58, 33, 25,  5,  4,  0, 10, 11,  7,  4,  0,\n",
              "        6])"
            ]
          },
          "metadata": {
            "tags": []
          },
          "execution_count": 25
        }
      ]
    },
    {
      "cell_type": "code",
      "metadata": {
        "id": "zGzYEkBbN8jl"
      },
      "source": [],
      "execution_count": null,
      "outputs": []
    }
  ]
}